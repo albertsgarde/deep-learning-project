{
  "cells": [
    {
      "cell_type": "markdown",
      "metadata": {
        "id": "EpCdm5MTVLke"
      },
      "source": [
        "## Setup\n",
        "### Project setup"
      ]
    },
    {
      "cell_type": "code",
      "execution_count": null,
      "metadata": {
        "id": "JAJzLPaqVLkj",
        "vscode": {
          "languageId": "python"
        }
      },
      "outputs": [],
      "source": [
        "if run_init:\n",
        "    %pip install -U pip\n",
        "    !if  [ ! -d \"deep-learning-project\" ] ; then git clone https://github.com/albertsgarde/deep-learning-project.git; fi\n",
        "    !cd deep-learning-project && git reset --hard && git pull && git checkout Fix_guitar_json && git pull\n",
        "    !source deep-learning-project/setup.sh deep-learning-project\n",
        "    import os\n",
        "    os.chdir(\"deep-learning-project/deep-learning\")\n",
        "run_init = False"
      ]
    },
    {
      "cell_type": "code",
      "execution_count": 1,
      "metadata": {
        "id": "qGYtl2AsVLkm",
        "vscode": {
          "languageId": "python"
        }
      },
      "outputs": [],
      "source": [
        "run_init = True"
      ]
    },
    {
      "cell_type": "code",
      "execution_count": 3,
      "metadata": {
        "id": "0ixbGgM3VLkn",
        "vscode": {
          "languageId": "python"
        }
      },
      "outputs": [],
      "source": [
        "run_init = False"
      ]
    },
    {
      "cell_type": "code",
      "source": [
        "!git pull"
      ],
      "metadata": {
        "id": "nPMN8P9_jekC"
      },
      "execution_count": null,
      "outputs": []
    },
    {
      "cell_type": "markdown",
      "metadata": {
        "id": "ByS9iXtkVLko"
      },
      "source": [
        "### Imports"
      ]
    },
    {
      "cell_type": "code",
      "execution_count": 63,
      "metadata": {
        "id": "7h_vOCYPVLkp",
        "vscode": {
          "languageId": "python"
        },
        "outputId": "9ecb3ce3-719f-4f81-891f-c790c913fa71",
        "colab": {
          "base_uri": "https://localhost:8080/"
        }
      },
      "outputs": [
        {
          "output_type": "execute_result",
          "data": {
            "text/plain": [
              "<module 'utils' from '/content/deep-learning-project/deep-learning/utils.py'>"
            ]
          },
          "metadata": {},
          "execution_count": 63
        }
      ],
      "source": [
        "import matplotlib.pyplot as plt\n",
        "import IPython.display as display\n",
        "\n",
        "import numpy as np\n",
        "import itertools\n",
        "import torch\n",
        "import torch.nn as nn\n",
        "import torch.nn.functional as nn_func\n",
        "import torch.optim as optim\n",
        "from torch.autograd import Variable\n",
        "\n",
        "import audio_samples_py as aus\n",
        "\n",
        "import utils\n",
        "\n",
        "import importlib\n",
        "importlib.reload(utils)"
      ]
    },
    {
      "cell_type": "markdown",
      "metadata": {
        "id": "Z74dCplZVLkq"
      },
      "source": [
        "### Device setup"
      ]
    },
    {
      "cell_type": "code",
      "execution_count": 64,
      "metadata": {
        "id": "4hg-wbljVLkr",
        "vscode": {
          "languageId": "python"
        },
        "outputId": "b385ae28-9a02-43f2-e52e-4c66b053a9ee",
        "colab": {
          "base_uri": "https://localhost:8080/"
        }
      },
      "outputs": [
        {
          "output_type": "stream",
          "name": "stdout",
          "text": [
            "No GPU available.\n"
          ]
        }
      ],
      "source": [
        "device, use_cuda = utils.setup_device(use_cuda_if_possible = True)"
      ]
    },
    {
      "cell_type": "markdown",
      "metadata": {
        "id": "OetAsjTMVLks"
      },
      "source": [
        "## Data\n",
        "### Parameters"
      ]
    },
    {
      "cell_type": "code",
      "execution_count": 65,
      "metadata": {
        "id": "X2BDxTBAVLku",
        "vscode": {
          "languageId": "python"
        }
      },
      "outputs": [],
      "source": [
        "SAMPLE_LENGTH = 512\n",
        "BATCH_SIZE = 32\n",
        "SEED = 0 # Generates different data if changed. Useful to ensure that a result isn't a fluke."
      ]
    },
    {
      "cell_type": "markdown",
      "metadata": {
        "id": "7GmdJSKP1odx"
      },
      "source": [
        "## Data"
      ]
    },
    {
      "cell_type": "markdown",
      "metadata": {
        "id": "C96SLNm-1odx"
      },
      "source": [
        "### Loading"
      ]
    },
    {
      "cell_type": "code",
      "execution_count": 66,
      "metadata": {
        "vscode": {
          "languageId": "python"
        },
        "id": "WSzxYUoh1odx"
      },
      "outputs": [],
      "source": [
        "def init_rw_data(path, label_to_target, validation_size: float, batch_size: int):\n",
        "    assert validation_size >= 0, f\"validation size must be non-negative. validation_size={validation_size}\"\n",
        "    assert validation_size <= 1, f\"validation size must be no greater than 1. validation_size={validation_size}\"\n",
        "    assert batch_size > 0, f\"batch_size must be positive. batch_size={batch_size}\"\n",
        "\n",
        "    data_loader_params = {\"batch_size\": batch_size, \"collate_fn\": utils.custom_collate, \"shuffle\": True, \"drop_last\": True}\n",
        "\n",
        "    # Not a mistake. Just an artifact of how random_partition works.\n",
        "    training_data, validation_data = aus.load_data_set(path).random_partition(1-validation_size)\n",
        "\n",
        "    training_data = utils.AudioRwDataSet(training_data, label_to_target)\n",
        "    validation_data = utils.AudioRwDataSet(validation_data, label_to_target)\n",
        "\n",
        "    training_loader = torch.utils.data.DataLoader(training_data, **data_loader_params)\n",
        "    validation_loader = torch.utils.data.DataLoader(validation_data, **data_loader_params)\n",
        "\n",
        "    return training_loader, validation_loader"
      ]
    },
    {
      "cell_type": "code",
      "execution_count": 67,
      "metadata": {
        "id": "ISgSLVdDVLkx",
        "vscode": {
          "languageId": "python"
        }
      },
      "outputs": [],
      "source": [
        "def label_to_target(label):\n",
        "    target = np.zeros(aus.num_chord_types(), dtype=np.float32)\n",
        "    target[label.chord_type()] = 1\n",
        "    return target\n",
        "\n",
        "training_loader, validation_loader = init_rw_data(\"data/short_guitar_samples/\", label_to_target, 0.2, BATCH_SIZE)"
      ]
    },
    {
      "cell_type": "markdown",
      "source": [
        "Plot"
      ],
      "metadata": {
        "id": "KxPcnbvE2SYn"
      }
    },
    {
      "cell_type": "code",
      "source": [
        "# Plot an example\n",
        "aus.plot_data_point_fft(aus.load_data_set(\"data/short_guitar_samples/\")[2])\n"
      ],
      "metadata": {
        "colab": {
          "base_uri": "https://localhost:8080/",
          "height": 265
        },
        "id": "j8S3nJFszo1y",
        "outputId": "a4304ed0-ddec-4d68-ce1a-10f7b223f125"
      },
      "execution_count": 101,
      "outputs": [
        {
          "output_type": "display_data",
          "data": {
            "text/plain": [
              "<Figure size 720x288 with 1 Axes>"
            ],
            "image/png": "[encoded data removed]"
          },
          "metadata": {
            "needs_background": "light"
          }
        }
      ]
    },
    {
      "cell_type": "markdown",
      "metadata": {
        "id": "r-TuEI2LVLk0"
      },
      "source": [
        "## Neural Network"
      ]
    },
    {
      "cell_type": "markdown",
      "metadata": {
        "id": "cnk9srl9_o6E"
      },
      "source": [
        "### Model definition."
      ]
    },
    {
      "cell_type": "code",
      "execution_count": 68,
      "metadata": {
        "id": "4O-SWu2s_o6E",
        "vscode": {
          "languageId": "python"
        }
      },
      "outputs": [],
      "source": [
        "class ConvMod(nn.Module):\n",
        "    \"\"\"Convolutional module containing a list of convolutional layers with ReLU activation and optional batch normalization and dropout.\"\"\"\n",
        "    def __init__(self, name, input_size, depth, channels, kernel_sizes, strides, paddings, poolings, batchnorms, dropouts):\n",
        "        super(ConvMod, self).__init__()\n",
        "\n",
        "        # Ensure that all parameter lists are long enough.\n",
        "        assert len(channels) >= depth\n",
        "        assert len(kernel_sizes) >= depth\n",
        "        assert len(strides) >= depth\n",
        "        assert len(paddings) >= depth\n",
        "        assert len(poolings) >= depth\n",
        "        assert len(batchnorms) >= depth\n",
        "        assert len(dropouts) >= depth\n",
        "        for kernel_size in kernel_sizes:\n",
        "            assert kernel_size % 2 == 1, \"Only odd kernel sizes are supported.\"\n",
        "        for dropout in dropouts:\n",
        "            assert 0 <= dropout and dropout <= 1, \"Dropout must be between 0 and 1.\"\n",
        "\n",
        "        # Calculate the size of the output of each convolutional layer (for each channel).\n",
        "        conv_size = []\n",
        "        for i in range(depth):\n",
        "            conv_dim_reduction = kernel_sizes[i]-1-paddings[i]*2\n",
        "            assert (input_size - conv_dim_reduction) % (strides[i]*poolings[i]) == 0\n",
        "            conv_size.append(int((input_size - conv_dim_reduction)/strides[i]/poolings[i]))\n",
        "            input_size = conv_size[i]\n",
        "        for i in range(depth):\n",
        "            print(f\"{name} layer {i} output: size={conv_size[i]} channels={channels[i]}\")\n",
        "\n",
        "        # Calculate total size of the output of the convolutional layers.\n",
        "        self.output_size = conv_size[-1]*channels[-1]\n",
        "        \n",
        "        self.module_list = nn.ModuleList()\n",
        "        in_channels = 1\n",
        "        for i in range(depth):\n",
        "            conv = nn.Conv1d(in_channels=in_channels, out_channels=channels[i], kernel_size=kernel_sizes[i], stride=strides[i], padding=paddings[i])\n",
        "            in_channels = channels[i]\n",
        "            pool = nn.MaxPool1d(poolings[i])\n",
        "            batchnorm = nn.BatchNorm1d(channels[i]) if (batchnorms[i]) else nn.Identity()\n",
        "            dropout = nn.Dropout(p=dropouts[i])\n",
        "\n",
        "            self.module_list.append(nn.ModuleList([conv, pool, batchnorm, dropout]))\n",
        "    \n",
        "    def forward(self, x):\n",
        "        for conv, pool, batchnorm, dropout in self.module_list:\n",
        "            x = conv(x)\n",
        "            x = pool(x)\n",
        "            x = nn_func.relu(x)\n",
        "            x = batchnorm(x)\n",
        "            x = dropout(x)\n",
        "        \n",
        "        return x\n",
        "    \n",
        "    def total_output_size(self):\n",
        "        \"\"\" Returns the size of the output of the convolutional layers. \"\"\"\n",
        "        return self.output_size\n",
        "\n",
        "class LinMod(nn.Module):\n",
        "    def __init__(self, name, in_features, depth, features, batchnorms, dropouts):\n",
        "        super(LinMod, self).__init__()\n",
        "\n",
        "        # Ensure that all parameter lists are long enough.\n",
        "        assert in_features > 0\n",
        "        assert depth > 0\n",
        "        assert len(features) >= depth\n",
        "        assert len(batchnorms) >= depth\n",
        "        assert len(dropouts) >= depth\n",
        "        for dropout in dropouts:\n",
        "            assert 0 <= dropout and dropout <= 1, \"Dropout must be between 0 and 1.\"\n",
        "        for i in range(depth):\n",
        "            print(f\"{name} layer {i} output: size={features[i]}\")\n",
        "\n",
        "        self.module_list = nn.ModuleList()\n",
        "        for i in range(depth):\n",
        "            lin = nn.Linear(in_features=in_features, out_features=features[i])\n",
        "            in_features = features[i]\n",
        "            batchnorm = nn.BatchNorm1d(features[i]) if (batchnorms[i]) else nn.Identity()\n",
        "            dropout = nn.Dropout(p=dropouts[i])\n",
        "\n",
        "            self.module_list.append(nn.ModuleList([lin, batchnorm, dropout]))\n",
        "        \n",
        "        self.out_features = in_features\n",
        "\n",
        "    def forward(self, x):\n",
        "        for lin, batchnorm, dropout in self.module_list:\n",
        "            x = lin(x)\n",
        "            x = nn_func.relu(x)\n",
        "            x = batchnorm(x)\n",
        "            x = dropout(x)\n",
        "            \n",
        "        return x\n",
        "\n",
        "    def total_output_size(self):\n",
        "        return self.out_features\n",
        "\n",
        "\n",
        "class Net(nn.Module):\n",
        "    def __init__(self, signal_mod, fft_mod, lin_mod):\n",
        "        super(Net, self).__init__()\n",
        "        \n",
        "        self.signal_mod = signal_mod\n",
        "\n",
        "        self.fft_mod = fft_mod\n",
        "        \n",
        "        self.lin = lin_mod\n",
        "\n",
        "        self.lin_out = nn.Linear(in_features=self.lin.total_output_size(), out_features=aus.num_chord_types())\n",
        "        self.softmax = nn.Softmax(dim=1)\n",
        "        \n",
        "        \n",
        "    def forward(self, signal, fft):\n",
        "        features = []\n",
        "        if self.signal_mod:\n",
        "            signal_features = signal.unsqueeze(1)\n",
        "            signal_features = self.signal_mod(signal_features).flatten(1)\n",
        "            features.append(signal_features)\n",
        "        \n",
        "        if self.fft_mod:\n",
        "            fft_features = fft.unsqueeze(1) \n",
        "            fft_features = self.fft_mod(fft_features).flatten(1)\n",
        "            features.append(fft_features)\n",
        "\n",
        "        features = torch.cat(features, dim=1)\n",
        "\n",
        "        final_features = self.lin(features)\n",
        "            \n",
        "        return self.softmax(self.lin_out(final_features))"
      ]
    },
    {
      "cell_type": "markdown",
      "metadata": {
        "id": "MLAnanJZVLk0"
      },
      "source": [
        "### Parameters"
      ]
    },
    {
      "cell_type": "code",
      "execution_count": 69,
      "metadata": {
        "id": "qNgMtUn3VLk1",
        "vscode": {
          "languageId": "python"
        },
        "colab": {
          "base_uri": "https://localhost:8080/"
        },
        "outputId": "8a5f4bc0-f834-4876-c955-5a9862ea50a3"
      },
      "outputs": [
        {
          "output_type": "stream",
          "name": "stdout",
          "text": [
            "signal_conv layer 0 output: size=256 channels=8\n",
            "signal_conv layer 1 output: size=128 channels=8\n",
            "fft_conv layer 0 output: size=256 channels=8\n",
            "fft_conv layer 1 output: size=128 channels=8\n",
            "lin layer 0 output: size=256\n",
            "lin layer 1 output: size=128\n"
          ]
        }
      ],
      "source": [
        "signal_conv_depth = 2\n",
        "signal_kernel_sizes = [7, 7, 5, 5]\n",
        "signal_conv = ConvMod(\n",
        "    \"signal_conv\",\n",
        "    input_size = SAMPLE_LENGTH,\n",
        "    depth = signal_conv_depth,\n",
        "    channels = [8, 8, 8, 8], \n",
        "    kernel_sizes = signal_kernel_sizes, \n",
        "    strides = [1 for _ in range(signal_conv_depth)], \n",
        "    paddings = [int((kernel_size - 1)/2) for kernel_size in signal_kernel_sizes], \n",
        "    poolings = [2,2,2,2], \n",
        "    batchnorms = [False for _ in range(signal_conv_depth)], \n",
        "    dropouts = [0.0 for _ in range(signal_conv_depth)])\n",
        "#signal_conv = None\n",
        "\n",
        "fft_conv_depth = 2\n",
        "fft_kernel_sizes = [7, 7, 5, 5]\n",
        "fft_conv = ConvMod(\n",
        "    \"fft_conv\",\n",
        "    input_size = SAMPLE_LENGTH,\n",
        "    depth = fft_conv_depth,\n",
        "    channels = [8, 8, 8, 8], \n",
        "    kernel_sizes = fft_kernel_sizes, \n",
        "    strides = [1 for _ in range(fft_conv_depth)], \n",
        "    paddings = [int((kernel_size - 1)/2) for kernel_size in fft_kernel_sizes], \n",
        "    poolings = [2,2,2,2], \n",
        "    batchnorms = [False for _ in range(fft_conv_depth)], \n",
        "    dropouts = [0.0 for _ in range(fft_conv_depth)])\n",
        "#fft_conv = None\n",
        "\n",
        "lin_depth = 2\n",
        "lin_mod = LinMod(\n",
        "    \"lin\",\n",
        "    in_features=(signal_conv.total_output_size() if signal_conv else 0) + (fft_conv.total_output_size() if fft_conv else 0),\n",
        "    depth = lin_depth,\n",
        "    features = [256, 128],\n",
        "    batchnorms = [False for _ in range(lin_depth)],\n",
        "    dropouts = [0.0 for _ in range(lin_depth)]\n",
        ")"
      ]
    },
    {
      "cell_type": "markdown",
      "metadata": {
        "id": "xAYW93NKVLk3"
      },
      "source": [
        "### Network"
      ]
    },
    {
      "cell_type": "code",
      "execution_count": 70,
      "metadata": {
        "id": "4aC9CSpPVLk3",
        "vscode": {
          "languageId": "python"
        }
      },
      "outputs": [],
      "source": [
        "assert signal_conv or fft_conv, \"Either signal or fft must be used.\"\n",
        "\n",
        "net = Net(signal_conv, fft_conv, lin_mod)\n",
        "if use_cuda:\n",
        "    net.cuda()"
      ]
    },
    {
      "cell_type": "markdown",
      "metadata": {
        "id": "33PC3H1tVLk4"
      },
      "source": [
        "## Training"
      ]
    },
    {
      "cell_type": "markdown",
      "metadata": {
        "id": "gYwDiU2u1od0"
      },
      "source": [
        "### Plotting"
      ]
    },
    {
      "cell_type": "code",
      "execution_count": 71,
      "metadata": {
        "vscode": {
          "languageId": "python"
        },
        "id": "eO34ceKr1od1"
      },
      "outputs": [],
      "source": [
        "def accuracy(output, target):\n",
        "    output_chord_type = np.argmax(output)\n",
        "    target_chord_type = np.argmax(target)\n",
        "    return 1 if output_chord_type == target_chord_type else 0\n",
        "\n",
        "eval_funcs = [accuracy]\n",
        "\n",
        "manual_test_funcs = {\n",
        "    \"Target chord type\": lambda output, target, label: aus.chord_type_name(np.argmax(target)),\n",
        "    \"Output chord type\": lambda output, target, label: aus.chord_type_name(np.argmax(output)),\n",
        "}"
      ]
    },
    {
      "cell_type": "code",
      "execution_count": 72,
      "metadata": {
        "vscode": {
          "languageId": "python"
        },
        "id": "R_4mdd-51od1"
      },
      "outputs": [],
      "source": [
        "def plot_history(error_tracker: utils.ErrorTracker, total_batches: int):\n",
        "    train_iter, train_log_losses, [train_accuracy] = error_tracker.train_history()\n",
        "    val_iter, val_log_losses, [val_accuracy] = error_tracker.validation_history()\n",
        "    \n",
        "    display.clear_output(wait=True)\n",
        "    fig = plt.figure(figsize=(12, 4))\n",
        "\n",
        "    plt.subplot(1, 2, 1)\n",
        "    plt.plot(train_iter, train_log_losses, label=\"Training Loss\")\n",
        "    plt.plot(val_iter, val_log_losses, label=\"Validation Loss\")\n",
        "    plt.xlim(0, total_batches+1)\n",
        "    plt.legend()\n",
        "\n",
        "    plt.subplot(1, 2, 2)\n",
        "    plt.plot(train_iter, train_accuracy, label=\"Training Accuracy\")\n",
        "    plt.plot(val_iter, val_accuracy, label=\"Validation Accuracy\")\n",
        "    plt.xlim(0, total_batches+1)\n",
        "    plt.ylim(0, 1)\n",
        "    plt.legend()\n",
        "\n",
        "    \n",
        "    plt.show()"
      ]
    },
    {
      "cell_type": "markdown",
      "metadata": {
        "id": "6oMSXT4M1od1"
      },
      "source": [
        "### Setup"
      ]
    },
    {
      "cell_type": "code",
      "execution_count": 73,
      "metadata": {
        "id": "kLbmywdRVLk5",
        "vscode": {
          "languageId": "python"
        }
      },
      "outputs": [],
      "source": [
        "LEARNING_RATE = 2e-5\n",
        "WEIGHT_DECAY = 1e-5"
      ]
    },
    {
      "cell_type": "code",
      "execution_count": 74,
      "metadata": {
        "id": "MLXdnp1sVLk5",
        "vscode": {
          "languageId": "python"
        }
      },
      "outputs": [],
      "source": [
        "criterion = nn.CrossEntropyLoss()  \n",
        "\n",
        "# weight_decay is equal to L2 regularization\n",
        "optimizer = optim.AdamW(net.parameters(), lr=LEARNING_RATE, weight_decay=WEIGHT_DECAY) "
      ]
    },
    {
      "cell_type": "markdown",
      "metadata": {
        "id": "-jCFxF-w1od2"
      },
      "source": [
        "### Training"
      ]
    },
    {
      "cell_type": "code",
      "execution_count": 75,
      "metadata": {
        "id": "PbqU-FdsVLk6",
        "vscode": {
          "languageId": "python"
        },
        "colab": {
          "base_uri": "https://localhost:8080/",
          "height": 373
        },
        "outputId": "0a4288cc-c0f6-413f-aae4-af733c0fe822"
      },
      "outputs": [
        {
          "output_type": "display_data",
          "data": {
            "text/plain": [
              "<Figure size 864x288 with 2 Axes>"
            ],
            "image/png": "[encoded data removed]"
          },
          "metadata": {
            "needs_background": "light"
          }
        },
        {
          "output_type": "stream",
          "name": "stdout",
          "text": [
            "Loss=1.5623765945434571, Accuracy=0.603\n",
            "Target chord type: Major Output chord type: Major \n",
            "Target chord type: Major Output chord type: Major \n",
            "Target chord type: Minor Output chord type: Major \n",
            "Target chord type: Major Output chord type: Major \n",
            "Target chord type: Major Output chord type: Major \n"
          ]
        }
      ],
      "source": [
        "NUM_BATCHES = 2000\n",
        "EVAL_EVERY = 500\n",
        "LOG_TRAIN_EVERY = 10\n",
        "NUM_VALIDATION_BATCHES = 10\n",
        "LOG_EVERY = EVAL_EVERY\n",
        "\n",
        "error_tracker = utils.ErrorTracker(criterion, eval_funcs, NUM_VALIDATION_BATCHES)\n",
        "\n",
        "net.train()\n",
        "for i, (signal, fft, target, label) in enumerate(itertools.islice(utils.cycle_data_loader(training_loader), NUM_BATCHES+1)):\n",
        "    if i%EVAL_EVERY == 0:\n",
        "        error_tracker.validation_update(i, net, validation_loader)\n",
        "\n",
        "    signal = utils.to_torch(signal)\n",
        "    fft = utils.to_torch(fft)\n",
        "    target = utils.to_torch(target)\n",
        "    output = net(signal, fft)\n",
        "    loss = criterion(output, target)\n",
        "\n",
        "    if i%LOG_TRAIN_EVERY == 0:\n",
        "        error_tracker.training_update(i, output, target, loss)\n",
        "\n",
        "    optimizer.zero_grad()\n",
        "    loss.backward()\n",
        "    optimizer.step()\n",
        "\n",
        "    if i % LOG_EVERY == 0:\n",
        "        plot_history(error_tracker, NUM_BATCHES)\n",
        "\n",
        "val_loss, [val_accuracy] = utils.test_net(net, validation_loader, criterion, NUM_VALIDATION_BATCHES, eval_funcs)\n",
        "\n",
        "print(f\"Loss={val_loss}, Accuracy={val_accuracy:.3f}\")\n",
        "\n",
        "utils.manual_test(net, validation_loader, 5, manual_test_funcs)"
      ]
    }
  ],
  "metadata": {
    "colab": {
      "provenance": [],
      "collapsed_sections": [
        "EpCdm5MTVLke",
        "ByS9iXtkVLko",
        "Z74dCplZVLkq",
        "OetAsjTMVLks",
        "r-TuEI2LVLk0",
        "cnk9srl9_o6E",
        "MLAnanJZVLk0",
        "xAYW93NKVLk3",
        "33PC3H1tVLk4",
        "gYwDiU2u1od0",
        "6oMSXT4M1od1",
        "-jCFxF-w1od2"
      ]
    },
    "kernelspec": {
      "display_name": "Python 3 (ipykernel)",
      "language": "python",
      "name": "python3"
    },
    "orig_nbformat": 4
  },
  "nbformat": 4,
  "nbformat_minor": 0
}