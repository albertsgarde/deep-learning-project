{
  "cells": [
    {
      "cell_type": "markdown",
      "metadata": {
        "id": "EpCdm5MTVLke"
      },
      "source": [
        "## Setup\n",
        "### Project setup"
      ]
    },
    {
      "cell_type": "code",
      "execution_count": 2,
      "metadata": {
        "id": "JAJzLPaqVLkj"
      },
      "outputs": [],
      "source": [
        "if run_init:\n",
        "    %pip install -U pip\n",
        "    !if  [ ! -d \"deep-learning-project\" ] ; then git clone https://github.com/albertsgarde/deep-learning-project.git; fi\n",
        "    !cd deep-learning-project && git reset --hard && git pull\n",
        "    !source deep-learning-project/setup.sh deep-learning-project\n",
        "    import os\n",
        "    os.chdir(\"deep-learning-project/deep-learning\")\n",
        "run_init = False"
      ]
    },
    {
      "cell_type": "code",
      "execution_count": 3,
      "metadata": {
        "id": "qGYtl2AsVLkm"
      },
      "outputs": [],
      "source": [
        "run_init = True"
      ]
    },
    {
      "cell_type": "code",
      "execution_count": 4,
      "metadata": {
        "id": "0ixbGgM3VLkn"
      },
      "outputs": [],
      "source": [
        "run_init = False"
      ]
    },
    {
      "cell_type": "markdown",
      "metadata": {
        "id": "ByS9iXtkVLko"
      },
      "source": [
        "### Imports"
      ]
    },
    {
      "cell_type": "code",
      "execution_count": 5,
      "metadata": {
        "id": "7h_vOCYPVLkp"
      },
      "outputs": [],
      "source": [
        "import matplotlib.pyplot as plt\n",
        "\n",
        "import numpy as np\n",
        "import itertools\n",
        "import torch\n",
        "import torch.nn as nn\n",
        "import torch.nn.functional as nn_func\n",
        "import torch.optim as optim\n",
        "from torch.autograd import Variable\n",
        "from torch.utils.data.dataloader import DataLoader\n",
        "\n",
        "import audio_samples_py as aus\n",
        "\n",
        "import utils.plots as plots\n",
        "import utils.utils as utils"
      ]
    },
    {
      "cell_type": "markdown",
      "metadata": {
        "id": "Z74dCplZVLkq"
      },
      "source": [
        "### Device setup"
      ]
    },
    {
      "cell_type": "code",
      "execution_count": 6,
      "metadata": {
        "id": "4hg-wbljVLkr"
      },
      "outputs": [
        {
          "name": "stdout",
          "output_type": "stream",
          "text": [
            "Running GPU.\n"
          ]
        }
      ],
      "source": [
        "device, use_cuda = utils.setup_device(use_cuda_if_possible = True)"
      ]
    },
    {
      "cell_type": "markdown",
      "metadata": {
        "id": "OetAsjTMVLks"
      },
      "source": [
        "## Data\n",
        "### Parameters"
      ]
    },
    {
      "cell_type": "code",
      "execution_count": 7,
      "metadata": {
        "id": "X2BDxTBAVLku"
      },
      "outputs": [],
      "source": [
        "SAMPLE_LENGTH = 512\n",
        "BATCH_SIZE = 64\n",
        "SEED = 1 # Generates different data if changed. Useful to ensure that a result isn't a fluke.\n",
        "\n",
        "possible_chord_types=[0,1,2,3,4,5,6]\n",
        "#possible_chord_types=[0]\n",
        "parameters = aus.DataParameters(num_samples=SAMPLE_LENGTH, min_frequency=50, max_frequency=2000, min_frequency_std_dev=0.5, max_frequency_std_dev=3., possible_chord_types=possible_chord_types) \\\n",
        "    .add_sine(probability=0.5, amplitude_range=(0.1,0.2)) \\\n",
        "    .add_saw(probability=0.5, amplitude_range=(0.1, 0.2)) \\\n",
        "    .add_pulse(probability=0.5, amplitude_range=(0.1, 0.2), duty_cycle_range=(0.1, 0.9)) \\\n",
        "    .add_triangle(probability=0.5, amplitude_range=(0.1, 0.2)) \\\n",
        "    .add_noise(probability=1, amplitude_range=(0.001, 0.04)) \\\n",
        "    .apply_distortion(probability=0.5, power_range=(0.1, 20)) \\\n",
        "    .apply_normalization(probability=1)"
      ]
    },
    {
      "cell_type": "markdown",
      "metadata": {},
      "source": [
        "## Data"
      ]
    },
    {
      "cell_type": "markdown",
      "metadata": {
        "id": "Rq5XoGNBVLkv"
      },
      "source": [
        "### Generation"
      ]
    },
    {
      "cell_type": "code",
      "execution_count": 8,
      "metadata": {
        "id": "ISgSLVdDVLkx"
      },
      "outputs": [],
      "source": [
        "def label_to_target(label):\n",
        "    \n",
        "    target = np.zeros(aus.num_chord_types(), dtype=np.float32)\n",
        "    target[label.chord_type()] = 1\n",
        "    return target\n",
        "\n",
        "training_parameters, training_loader, validation_parameters, validation_loader = utils.init_synth_data(parameters, label_to_target, SEED, BATCH_SIZE)"
      ]
    },
    {
      "cell_type": "markdown",
      "metadata": {
        "id": "r-TuEI2LVLk0"
      },
      "source": [
        "## Neural Network"
      ]
    },
    {
      "cell_type": "markdown",
      "metadata": {
        "id": "cnk9srl9_o6E"
      },
      "source": [
        "### Model definition."
      ]
    },
    {
      "cell_type": "code",
      "execution_count": 9,
      "metadata": {
        "id": "4O-SWu2s_o6E"
      },
      "outputs": [],
      "source": [
        "class ConvMod(nn.Module):\n",
        "    \"\"\"Convolutional module containing a list of convolutional layers with ReLU activation and optional batch normalization and dropout.\"\"\"\n",
        "    def __init__(self, name, input_size, depth, channels, kernel_sizes, strides, paddings, poolings, batchnorms, dropouts):\n",
        "        super(ConvMod, self).__init__()\n",
        "\n",
        "        # Ensure that all parameter lists are long enough.\n",
        "        assert len(channels) >= depth\n",
        "        assert len(kernel_sizes) >= depth\n",
        "        assert len(strides) >= depth\n",
        "        assert len(paddings) >= depth\n",
        "        assert len(poolings) >= depth\n",
        "        assert len(batchnorms) >= depth\n",
        "        assert len(dropouts) >= depth\n",
        "        for kernel_size in kernel_sizes:\n",
        "            assert kernel_size % 2 == 1, \"Only odd kernel sizes are supported.\"\n",
        "        for dropout in dropouts:\n",
        "            assert 0 <= dropout and dropout <= 1, \"Dropout must be between 0 and 1.\"\n",
        "\n",
        "        # Calculate the size of the output of each convolutional layer (for each channel).\n",
        "        conv_size = []\n",
        "        for i in range(depth):\n",
        "            conv_dim_reduction = kernel_sizes[i]-1-paddings[i]*2\n",
        "            assert (input_size - conv_dim_reduction) % (strides[i]*poolings[i]) == 0\n",
        "            conv_size.append(int((input_size - conv_dim_reduction)/strides[i]/poolings[i]))\n",
        "            input_size = conv_size[i]\n",
        "        for i in range(depth):\n",
        "            print(f\"{name} layer {i} output: size={conv_size[i]} channels={channels[i]}\")\n",
        "\n",
        "        # Calculate total size of the output of the convolutional layers.\n",
        "        self.output_size = conv_size[-1]*channels[-1]\n",
        "        \n",
        "        self.module_list = nn.ModuleList()\n",
        "        in_channels = 1\n",
        "        for i in range(depth):\n",
        "            conv = nn.Conv1d(in_channels=in_channels, out_channels=channels[i], kernel_size=kernel_sizes[i], stride=strides[i], padding=paddings[i])\n",
        "            in_channels = channels[i]\n",
        "            pool = nn.MaxPool1d(poolings[i])\n",
        "            batchnorm = nn.BatchNorm1d(channels[i]) if (batchnorms[i]) else nn.Identity()\n",
        "            dropout = nn.Dropout(p=dropouts[i])\n",
        "\n",
        "            self.module_list.append(nn.ModuleList([conv, pool, batchnorm, dropout]))\n",
        "    \n",
        "    def forward(self, x):\n",
        "        for conv, pool, batchnorm, dropout in self.module_list:\n",
        "            x = conv(x)\n",
        "            x = pool(x)\n",
        "            x = nn_func.relu(x)\n",
        "            x = batchnorm(x)\n",
        "            x = dropout(x)\n",
        "        \n",
        "        return x\n",
        "    \n",
        "    def total_output_size(self):\n",
        "        \"\"\" Returns the size of the output of the convolutional layers. \"\"\"\n",
        "        return self.output_size\n",
        "\n",
        "class LinMod(nn.Module):\n",
        "    def __init__(self, name, in_features, depth, features, batchnorms, dropouts):\n",
        "        super(LinMod, self).__init__()\n",
        "\n",
        "        # Ensure that all parameter lists are long enough.\n",
        "        assert in_features > 0\n",
        "        assert depth > 0\n",
        "        assert len(features) >= depth\n",
        "        assert len(batchnorms) >= depth\n",
        "        assert len(dropouts) >= depth\n",
        "        for dropout in dropouts:\n",
        "            assert 0 <= dropout and dropout <= 1, \"Dropout must be between 0 and 1.\"\n",
        "        for i in range(depth):\n",
        "            print(f\"{name} layer {i} output: size={features[i]}\")\n",
        "\n",
        "        self.module_list = nn.ModuleList()\n",
        "        for i in range(depth):\n",
        "            lin = nn.Linear(in_features=in_features, out_features=features[i])\n",
        "            in_features = features[i]\n",
        "            batchnorm = nn.BatchNorm1d(features[i]) if (batchnorms[i]) else nn.Identity()\n",
        "            dropout = nn.Dropout(p=dropouts[i])\n",
        "\n",
        "            self.module_list.append(nn.ModuleList([lin, batchnorm, dropout]))\n",
        "        \n",
        "        self.out_features = in_features\n",
        "\n",
        "    def forward(self, x):\n",
        "        for lin, batchnorm, dropout in self.module_list:\n",
        "            x = lin(x)\n",
        "            x = nn_func.relu(x)\n",
        "            x = batchnorm(x)\n",
        "            x = dropout(x)\n",
        "            \n",
        "        return x\n",
        "\n",
        "    def total_output_size(self):\n",
        "        return self.out_features\n",
        "\n",
        "\n",
        "class Net(nn.Module):\n",
        "    def __init__(self, signal_mod, fft_mod, lin_mod):\n",
        "        super(Net, self).__init__()\n",
        "        \n",
        "        self.signal_mod = signal_mod\n",
        "\n",
        "        self.fft_mod = fft_mod\n",
        "        \n",
        "        self.lin = lin_mod\n",
        "\n",
        "        self.lin_out = nn.Linear(in_features=self.lin.total_output_size(), out_features=aus.num_chord_types())\n",
        "        self.softmax = nn.Softmax(dim=1)\n",
        "        \n",
        "        \n",
        "    def forward(self, signal, fft):\n",
        "        features = []\n",
        "        if self.signal_mod:\n",
        "            signal_features = signal.unsqueeze(1)\n",
        "            signal_features = self.signal_mod(signal_features).flatten(1)\n",
        "            features.append(signal_features)\n",
        "        \n",
        "        if self.fft_mod:\n",
        "            fft_features = fft.unsqueeze(1) \n",
        "            fft_features = self.fft_mod(fft_features).flatten(1)\n",
        "            features.append(fft_features)\n",
        "\n",
        "        features = torch.cat(features, dim=1)\n",
        "\n",
        "        final_features = self.lin(features)\n",
        "            \n",
        "        return self.softmax(self.lin_out(final_features))"
      ]
    },
    {
      "cell_type": "markdown",
      "metadata": {
        "id": "MLAnanJZVLk0"
      },
      "source": [
        "### Parameters"
      ]
    },
    {
      "cell_type": "code",
      "execution_count": 10,
      "metadata": {
        "id": "qNgMtUn3VLk1"
      },
      "outputs": [
        {
          "name": "stdout",
          "output_type": "stream",
          "text": [
            "signal_conv layer 0 output: size=512 channels=32\n",
            "signal_conv layer 1 output: size=256 channels=32\n",
            "signal_conv layer 2 output: size=256 channels=32\n",
            "signal_conv layer 3 output: size=128 channels=32\n",
            "signal_conv layer 4 output: size=128 channels=32\n",
            "signal_conv layer 5 output: size=128 channels=32\n",
            "fft_conv layer 0 output: size=512 channels=32\n",
            "fft_conv layer 1 output: size=256 channels=32\n",
            "fft_conv layer 2 output: size=256 channels=32\n",
            "fft_conv layer 3 output: size=128 channels=32\n",
            "fft_conv layer 4 output: size=128 channels=32\n",
            "fft_conv layer 5 output: size=128 channels=32\n",
            "lin layer 0 output: size=512\n",
            "lin layer 1 output: size=256\n"
          ]
        }
      ],
      "source": [
        "signal_conv_depth = 6\n",
        "signal_kernel_sizes = [9, 9, 7, 7, 5, 5]\n",
        "signal_conv = ConvMod(\n",
        "    \"signal_conv\",\n",
        "    input_size = SAMPLE_LENGTH,\n",
        "    depth = signal_conv_depth,\n",
        "    channels = [32 for _ in range(signal_conv_depth)], \n",
        "    kernel_sizes = signal_kernel_sizes, \n",
        "    strides = [1 for _ in range(signal_conv_depth)], \n",
        "    paddings = [int((kernel_size - 1)/2) for kernel_size in signal_kernel_sizes], \n",
        "    poolings = [1,2,1,2,1,1], \n",
        "    batchnorms = [True for _ in range(signal_conv_depth)], \n",
        "    dropouts = [0.05 for _ in range(signal_conv_depth)])\n",
        "#signal_conv = None\n",
        "\n",
        "fft_conv_depth = 6\n",
        "fft_kernel_sizes = [9, 9, 7, 7, 5, 5]\n",
        "fft_conv = ConvMod(\n",
        "    \"fft_conv\",\n",
        "    input_size = SAMPLE_LENGTH,\n",
        "    depth = fft_conv_depth,\n",
        "    channels = [32 for _ in range(fft_conv_depth)], \n",
        "    kernel_sizes = fft_kernel_sizes, \n",
        "    strides = [1 for _ in range(fft_conv_depth)], \n",
        "    paddings = [int((kernel_size - 1)/2) for kernel_size in fft_kernel_sizes], \n",
        "    poolings = [1,2,1,2,1,1], \n",
        "    batchnorms = [True for _ in range(fft_conv_depth)], \n",
        "    dropouts = [0.05 for _ in range(fft_conv_depth)])\n",
        "#fft_conv = None\n",
        "\n",
        "lin_depth = 2\n",
        "lin_mod = LinMod(\n",
        "    \"lin\",\n",
        "    in_features=(signal_conv.total_output_size() if signal_conv else 0) + (fft_conv.total_output_size() if fft_conv else 0),\n",
        "    depth = lin_depth,\n",
        "    features = [512, 256],\n",
        "    batchnorms = [False for _ in range(lin_depth)],\n",
        "    dropouts = [0.05 for _ in range(lin_depth)]\n",
        ")"
      ]
    },
    {
      "cell_type": "markdown",
      "metadata": {
        "id": "xAYW93NKVLk3"
      },
      "source": [
        "### Network"
      ]
    },
    {
      "cell_type": "code",
      "execution_count": 11,
      "metadata": {
        "id": "4aC9CSpPVLk3"
      },
      "outputs": [],
      "source": [
        "assert signal_conv or fft_conv, \"Either signal or fft must be used.\"\n",
        "\n",
        "net = Net(signal_conv, fft_conv, lin_mod)\n",
        "if use_cuda:\n",
        "    net.cuda()"
      ]
    },
    {
      "cell_type": "markdown",
      "metadata": {
        "id": "33PC3H1tVLk4"
      },
      "source": [
        "## Training"
      ]
    },
    {
      "cell_type": "markdown",
      "metadata": {},
      "source": [
        "### Plotting"
      ]
    },
    {
      "cell_type": "code",
      "execution_count": 12,
      "metadata": {},
      "outputs": [],
      "source": [
        "def accuracy(output, target):\n",
        "    output_chord_type = np.argmax(output)\n",
        "    target_chord_type = np.argmax(target)\n",
        "    return 1 if output_chord_type == target_chord_type else 0\n",
        "\n",
        "eval_funcs = [\n",
        "    {\n",
        "        \"label\": \"Accuracy\",\n",
        "        \"ylim\": (0,1),\n",
        "        \"func\": lambda output, target, label: accuracy(output, target)\n",
        "    }\n",
        "]   \n",
        "\n",
        "manual_test_funcs = {\n",
        "    \"Target chord\": lambda output, target, label: aus.chord_type_name(np.argmax(target)),\n",
        "    \"Output chord\": lambda output, target, label: aus.chord_type_name(np.argmax(output)),\n",
        "    \"Frequency\": lambda output, target, label: label.frequency(),\n",
        "    \"Correct\": lambda output, target, label: accuracy(output, target)\n",
        "}"
      ]
    },
    {
      "cell_type": "markdown",
      "metadata": {},
      "source": [
        "### Setup"
      ]
    },
    {
      "cell_type": "code",
      "execution_count": 13,
      "metadata": {
        "id": "kLbmywdRVLk5"
      },
      "outputs": [],
      "source": [
        "LEARNING_RATE = 2e-5\n",
        "WEIGHT_DECAY = 1e-5"
      ]
    },
    {
      "cell_type": "code",
      "execution_count": 14,
      "metadata": {
        "id": "MLXdnp1sVLk5"
      },
      "outputs": [],
      "source": [
        "criterion = nn.CrossEntropyLoss()  \n",
        "\n",
        "# weight_decay is equal to L2 regularization\n",
        "optimizer = optim.AdamW(net.parameters(), lr=LEARNING_RATE, weight_decay=WEIGHT_DECAY) "
      ]
    },
    {
      "cell_type": "markdown",
      "metadata": {},
      "source": [
        "### Training"
      ]
    },
    {
      "cell_type": "code",
      "execution_count": 15,
      "metadata": {
        "id": "PbqU-FdsVLk6"
      },
      "outputs": [
        {
          "data": {
            "image/png": "[encoded data removed]",
            "text/plain": [
              "<Figure size 1200x400 with 2 Axes>"
            ]
          },
          "metadata": {},
          "output_type": "display_data"
        },
        {
          "name": "stdout",
          "output_type": "stream",
          "text": [
            "Loss=1.802201271057129, Accuracy=0.359\n",
            "Target chord: Major Output chord: Diminished Frequency: 201.31822204589844 Correct: 0 \n",
            "Target chord: Single Note Output chord: Major Frequency: 787.2877807617188 Correct: 0 \n",
            "Target chord: Major 7th Output chord: Major 7th Frequency: 576.9065551757812 Correct: 1 \n",
            "Target chord: Single Note Output chord: Single Note Frequency: 1310.58251953125 Correct: 1 \n",
            "Target chord: Minor 7th Output chord: Major 7th Frequency: 167.46083068847656 Correct: 0 \n"
          ]
        }
      ],
      "source": [
        "NUM_BATCHES = 500\n",
        "EVAL_EVERY = 500\n",
        "LOG_TRAIN_EVERY = 25\n",
        "NUM_VALIDATION_BATCHES = 10\n",
        "LOG_EVERY = EVAL_EVERY\n",
        "\n",
        "error_tracker = utils.ErrorTracker(criterion, eval_funcs, NUM_VALIDATION_BATCHES)\n",
        "\n",
        "net.train()\n",
        "for i, (signal, fft, target, label) in enumerate(itertools.islice(training_loader, NUM_BATCHES+1)):\n",
        "    if i%EVAL_EVERY == 0:\n",
        "        error_tracker.validation_update(i, net, validation_loader)\n",
        "\n",
        "    signal = utils.to_torch(signal)\n",
        "    fft = utils.to_torch(fft)\n",
        "    target = utils.to_torch(target)\n",
        "    output = net(signal, fft)\n",
        "    loss = criterion(output, target)\n",
        "\n",
        "    if i%LOG_TRAIN_EVERY == 0:\n",
        "        error_tracker.training_update(i, output, target, label, loss)\n",
        "\n",
        "    optimizer.zero_grad()\n",
        "    loss.backward()\n",
        "    optimizer.step()\n",
        "\n",
        "    if i % LOG_EVERY == 0:\n",
        "        plots.plot_history(error_tracker, NUM_BATCHES, eval_funcs)\n",
        "\n",
        "\n",
        "val_loss, [val_accuracy] = utils.test_net(net, validation_loader, criterion, NUM_VALIDATION_BATCHES, eval_funcs)\n",
        "\n",
        "print(f\"Loss={val_loss}, Accuracy={val_accuracy:.3f}\")\n",
        "\n",
        "utils.manual_test(net, validation_loader, 5, manual_test_funcs)"
      ]
    },
    {
      "cell_type": "code",
      "execution_count": 16,
      "metadata": {},
      "outputs": [
        {
          "data": {
            "image/png": "[encoded data removed]",
            "text/plain": [
              "<Figure size 1200x400 with 1 Axes>"
            ]
          },
          "metadata": {},
          "output_type": "display_data"
        }
      ],
      "source": [
        "plots.frequency_plot(net, validation_loader, 20, eval_funcs, 30)"
      ]
    }
  ],
  "metadata": {
    "colab": {
      "provenance": []
    },
    "kernelspec": {
      "display_name": "Python 3.10.6 ('torch-notebook')",
      "language": "python",
      "name": "python3"
    },
    "language_info": {
      "codemirror_mode": {
        "name": "ipython",
        "version": 3
      },
      "file_extension": ".py",
      "mimetype": "text/x-python",
      "name": "python",
      "nbconvert_exporter": "python",
      "pygments_lexer": "ipython3",
      "version": "3.10.6"
    },
    "orig_nbformat": 4,
    "vscode": {
      "interpreter": {
        "hash": "34fdfbbea481bd85da6d3a89cefc0eac7829bd3d33c7e2764c66b35aab7d912a"
      }
    }
  },
  "nbformat": 4,
  "nbformat_minor": 0
}
