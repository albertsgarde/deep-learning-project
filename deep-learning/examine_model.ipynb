{
 "cells": [
  {
   "cell_type": "markdown",
   "metadata": {},
   "source": [
    "## Setup"
   ]
  },
  {
   "cell_type": "markdown",
   "metadata": {},
   "source": [
    "### Project setup"
   ]
  },
  {
   "cell_type": "code",
   "execution_count": 3,
   "metadata": {},
   "outputs": [],
   "source": [
    "if run_init:\n",
    "    %pip install -U pip\n",
    "    !if  [ ! -d \"deep-learning-project\" ] ; then git clone https://github.com/albertsgarde/deep-learning-project.git; fi\n",
    "    !cd deep-learning-project && git reset --hard && git pull\n",
    "    !source deep-learning-project/setup.sh deep-learning-project\n",
    "    import os\n",
    "    os.chdir(\"deep-learning-project/deep-learning\")\n",
    "run_init = False"
   ]
  },
  {
   "cell_type": "code",
   "execution_count": 4,
   "metadata": {},
   "outputs": [],
   "source": [
    "run_init = True"
   ]
  },
  {
   "cell_type": "code",
   "execution_count": 1,
   "metadata": {},
   "outputs": [],
   "source": [
    "run_init = False"
   ]
  },
  {
   "cell_type": "markdown",
   "metadata": {},
   "source": [
    "### Imports"
   ]
  },
  {
   "cell_type": "code",
   "execution_count": 2,
   "metadata": {},
   "outputs": [],
   "source": [
    "import matplotlib.pyplot as plt\n",
    "\n",
    "import numpy as np\n",
    "import itertools\n",
    "import torch\n",
    "import torch.nn as nn\n",
    "import torch.nn.functional as nn_func\n",
    "import torch.optim as optim\n",
    "from torch.autograd import Variable\n",
    "from torch.utils.data.dataloader import DataLoader\n",
    "import IPython.display as display\n",
    "\n",
    "import audio_samples_py as aus\n",
    "\n",
    "import utils.plots as plots\n",
    "import utils.criterion as chord_criterion\n",
    "import utils.utils as utils"
   ]
  },
  {
   "cell_type": "markdown",
   "metadata": {},
   "source": [
    "### Device setup"
   ]
  },
  {
   "cell_type": "code",
   "execution_count": 3,
   "metadata": {},
   "outputs": [
    {
     "name": "stdout",
     "output_type": "stream",
     "text": [
      "Running GPU.\n"
     ]
    }
   ],
   "source": [
    "device, use_cuda = utils.setup_device(use_cuda_if_possible = True)"
   ]
  },
  {
   "cell_type": "markdown",
   "metadata": {},
   "source": [
    "## Data"
   ]
  },
  {
   "cell_type": "code",
   "execution_count": 8,
   "metadata": {},
   "outputs": [],
   "source": [
    "SAMPLE_LENGTH = 1024\n",
    "BATCH_SIZE = 64\n",
    "SEED = 2 # Generates different data if changed. Useful to ensure that a result isn't a fluke.\n",
    "\n",
    "possible_chord_types = [i for i in range(aus.num_chord_types())]\n",
    "octave_parameters = aus.OctaveParameters(add_root_octave_probability=0.5,\n",
    "        add_other_octave_probability=0.3)\n",
    "parameters = aus.DataParameters(num_samples=SAMPLE_LENGTH, octave_parameters=octave_parameters, min_frequency=50, max_frequency=2000, min_frequency_std_dev=0.5, max_frequency_std_dev=3., possible_chord_types=possible_chord_types) \\\n",
    "    .add_sine(probability=0.5, amplitude_range=(0.1,0.2)) \\\n",
    "    .add_saw(probability=0.5, amplitude_range=(0.1, 0.2)) \\\n",
    "    .add_pulse(probability=0.5, amplitude_range=(0.1, 0.2), duty_cycle_range=(0.1, 0.9)) \\\n",
    "    .add_triangle(probability=0.5, amplitude_range=(0.1, 0.2)) \\\n",
    "    .add_noise(probability=1, amplitude_range=(0.001, 0.04)) \\\n",
    "    .apply_distortion(probability=0.5, power_range=(0.1, 20)) \\\n",
    "    .apply_normalization(probability=1)"
   ]
  },
  {
   "cell_type": "markdown",
   "metadata": {},
   "source": [
    "### Generation"
   ]
  },
  {
   "cell_type": "code",
   "execution_count": 9,
   "metadata": {},
   "outputs": [],
   "source": [
    "def label_to_target(label: aus.DataPointLabel):\n",
    "    \n",
    "    target = np.zeros(aus.num_chord_types() + 12, dtype=np.float32)\n",
    "    target[label.chord_type()] = 1\n",
    "    target[aus.num_chord_types() + label.note()] = 1\n",
    "    return target\n",
    "\n",
    "training_parameters, training_loader, validation_parameters, validation_loader = utils.init_synth_data(parameters, label_to_target, SEED, BATCH_SIZE)\n",
    "rw_training_loader, rw_validation_loader = utils.init_rw_data(\"data/short_guitar_samples/\", label_to_target, 0.0, BATCH_SIZE)"
   ]
  },
  {
   "cell_type": "markdown",
   "metadata": {},
   "source": [
    "## Neural Network"
   ]
  },
  {
   "cell_type": "code",
   "execution_count": 5,
   "metadata": {},
   "outputs": [],
   "source": [
    "net = torch.jit.load(\"C:/Users/alber/Google Drive/DTU/Deep Learning/hpc_transfer/model_3_400000.pt\")\n",
    "\n",
    "\n",
    "\n",
    "if use_cuda:\n",
    "    net.cuda()"
   ]
  },
  {
   "cell_type": "markdown",
   "metadata": {},
   "source": [
    "## Evaluation"
   ]
  },
  {
   "cell_type": "code",
   "execution_count": 11,
   "metadata": {},
   "outputs": [],
   "source": [
    "data_header = [\"Tone\", \"Type\", \"Out Tone\", \"Out Type\", \"Acc.Type\", \"Acc.Tone\", \"Acc\"]\n",
    "\n",
    "tone_names = [\"A\",\"Bb\", \"B\", \"C\", \"Db\", \"D\", \"Eb\", \"E\", \"F\", \"Gb\", \"G\", \"Ab\"]\n",
    "\n",
    "def build_data_row(label: aus.DataPointLabel, output, target):\n",
    "    if label.frequencies():\n",
    "        frequencies = label.frequencies()\n",
    "        min_frequency = min(frequencies)\n",
    "        max_frequency = max(frequencies)\n",
    "    else:\n",
    "        min_frequency = None\n",
    "        max_frequency = None\n",
    "    \n",
    "    output_chord_type = np.argmax(output[:aus.num_chord_types()])\n",
    "    output_chord_tone = np.argmax(output[aus.num_chord_types():])\n",
    "    accurate_chord_type = output_chord_type == label.chord_type()\n",
    "    accurate_chord_tone = output_chord_tone == label.note()\n",
    "    accurate = accurate_chord_type and accurate_chord_tone\n",
    "    \n",
    "\n",
    "    return [tone_names[label.note()], label.chord_type_name(), tone_names[output_chord_tone], aus.chord_type_name(output_chord_type), accurate_chord_type, accurate_chord_tone, accurate]\n"
   ]
  },
  {
   "cell_type": "code",
   "execution_count": 12,
   "metadata": {},
   "outputs": [],
   "source": [
    "criterion = chord_criterion.ChordToneLoss(aus.num_chord_types())  "
   ]
  },
  {
   "cell_type": "code",
   "execution_count": 13,
   "metadata": {},
   "outputs": [
    {
     "name": "stdout",
     "output_type": "stream",
     "text": [
      "Processed: 128\r"
     ]
    },
    {
     "name": "stderr",
     "output_type": "stream",
     "text": [
      "c:\\Users\\alber\\anaconda3\\envs\\torch-notebook\\lib\\site-packages\\torch\\nn\\modules\\module.py:1190: UserWarning: FALLBACK path has been taken inside: torch::jit::fuser::cuda::runCudaFusionGroup. This is an indication that codegen Failed for some reason.\n",
      "To debug try disable codegen fallback path via setting the env variable `export PYTORCH_NVFUSER_DISABLE=fallback`\n",
      " (Triggered internally at C:\\cb\\pytorch_1000000000000\\work\\torch\\csrc\\jit\\codegen\\cuda\\manager.cpp:336.)\n",
      "  return forward_call(*input, **kwargs)\n"
     ]
    },
    {
     "name": "stdout",
     "output_type": "stream",
     "text": [
      "Processed: 2000\r"
     ]
    }
   ],
   "source": [
    "NUM_DATA_POINTS = 10_000\n",
    "PRINT_PROGRESS_EVERY = 100\n",
    "OUTPUT_PATH = \"eval_data.csv\"\n",
    "\n",
    "data = []\n",
    "\n",
    "net.eval()\n",
    "def eval():\n",
    "    for batch_signal, batch_fft, batch_target, batch_labels in rw_training_loader:\n",
    "        batch_signal = utils.to_torch(batch_signal)\n",
    "        batch_fft = utils.to_torch(batch_fft)\n",
    "        batch_target = utils.to_torch(batch_target)\n",
    "        batch_output = net(batch_signal, batch_fft)\n",
    "\n",
    "        for i in range(batch_signal.shape[0]):\n",
    "\n",
    "            label = batch_labels[i]\n",
    "            target = utils.to_numpy(batch_target[i,:])\n",
    "            output = utils.to_numpy(batch_output[i,:])\n",
    "            \n",
    "            data_row = build_data_row(label, output, target) \n",
    "            data.append(data_row)\n",
    "\n",
    "            print(f\"Processed: {len(data)}\", end=\"\\r\")\n",
    "            if len(data) >= NUM_DATA_POINTS:\n",
    "                break\n",
    "        if len(data) >= NUM_DATA_POINTS:\n",
    "            break\n",
    "eval()\n"
   ]
  },
  {
   "cell_type": "code",
   "execution_count": 14,
   "metadata": {},
   "outputs": [],
   "source": [
    "import csv\n",
    "\n",
    "with open(OUTPUT_PATH, 'w', newline='', encoding='utf-8') as file:\n",
    "    writer = csv.writer(file)\n",
    "    writer.writerow(data_header)\n",
    "    writer.writerows(data)\n"
   ]
  },
  {
   "cell_type": "code",
   "execution_count": 15,
   "metadata": {},
   "outputs": [
    {
     "name": "stdout",
     "output_type": "stream",
     "text": [
      "  Tone   Type Out Tone Out Type  Acc.Type  Acc.Tone   Acc    Chord Out Chord\n",
      "0    D  Major        D    Major      True      True  True  D,Major   D,Major\n",
      "1    G  Major        G    Major      True      True  True  G,Major   G,Major\n",
      "2    E  Major        E    Major      True      True  True  E,Major   E,Major\n",
      "3    B  Minor        B    Minor      True      True  True  B,Minor   B,Minor\n",
      "4    F  Major        F    Major      True      True  True  F,Major   F,Major\n"
     ]
    },
    {
     "data": {
      "text/plain": [
       "<AxesSubplot:xlabel='Out Chord', ylabel='Chord'>"
      ]
     },
     "execution_count": 15,
     "metadata": {},
     "output_type": "execute_result"
    },
    {
     "data": {
      "image/png": "[encoded data removed]",
      "text/plain": [
       "<Figure size 640x480 with 2 Axes>"
      ]
     },
     "metadata": {},
     "output_type": "display_data"
    }
   ],
   "source": [
    "import seaborn as sns\n",
    "import pandas as pd\n",
    "import matplotlib as plt\n",
    "\n",
    "data = pd.read_csv(\"eval_data.csv\")\n",
    "\n",
    "chord_count_data = data.copy(deep=True)\n",
    "chord_count_data[\"Chord\"] = chord_count_data[\"Tone\"] + \",\" + chord_count_data[\"Type\"]\n",
    "chord_count_data[\"Out Chord\"] = chord_count_data[\"Out Tone\"] + \",\" + chord_count_data[\"Out Type\"]\n",
    "\n",
    "print(chord_count_data.head())\n",
    "\n",
    "chord_count_data = chord_count_data[[\"Chord\", \"Out Chord\"]] \\\n",
    "    .pipe(pd.pivot_table, index=[\"Chord\"], columns=[\"Out Chord\"], aggfunc=len, fill_value=0)\n",
    "    \n",
    "chord_count_data = chord_count_data.div(chord_count_data.sum(axis=1)/100, axis=\"index\")\n",
    "\n",
    "sns.heatmap(chord_count_data, annot=True, fmt=\".1f\")\n"
   ]
  },
  {
   "cell_type": "code",
   "execution_count": null,
   "metadata": {},
   "outputs": [],
   "source": []
  }
 ],
 "metadata": {
  "kernelspec": {
   "display_name": "Python 3.10.6 ('torch-notebook')",
   "language": "python",
   "name": "python3"
  },
  "language_info": {
   "codemirror_mode": {
    "name": "ipython",
    "version": 3
   },
   "file_extension": ".py",
   "mimetype": "text/x-python",
   "name": "python",
   "nbconvert_exporter": "python",
   "pygments_lexer": "ipython3",
   "version": "3.10.6"
  },
  "orig_nbformat": 4,
  "vscode": {
   "interpreter": {
    "hash": "34fdfbbea481bd85da6d3a89cefc0eac7829bd3d33c7e2764c66b35aab7d912a"
   }
  }
 },
 "nbformat": 4,
 "nbformat_minor": 2
}
