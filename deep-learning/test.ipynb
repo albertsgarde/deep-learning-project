{
 "cells": [
  {
   "cell_type": "code",
   "execution_count": 6,
   "metadata": {},
   "outputs": [
    {
     "name": "stdout",
     "output_type": "stream",
     "text": [
      "/app\n",
      "\u001b[33mWARNING: Requirement '../audio_samples_py/target/wheels/audio_samples_py-0.1.0.tar.gz' looks like a filename, but the file does not exist\u001b[0m\n",
      "Processing /audio_samples_py/target/wheels/audio_samples_py-0.1.0.tar.gz\n",
      "\u001b[31mERROR: Could not install packages due to an EnvironmentError: [Errno 2] No such file or directory: '/audio_samples_py/target/wheels/audio_samples_py-0.1.0.tar.gz'\n",
      "\u001b[0m\n",
      "Note: you may need to restart the kernel to use updated packages.\n"
     ]
    }
   ],
   "source": [
    "\n",
    "%pip install ../audio_samples_py/target/wheels/audio_samples_py-0.1.0.tar.gz\n",
    "import os"
   ]
  }
 ],
 "metadata": {
  "kernelspec": {
   "display_name": "Python 3 (ipykernel)",
   "language": "python",
   "name": "python3"
  },
  "language_info": {
   "codemirror_mode": {
    "name": "ipython",
    "version": 3
   },
   "file_extension": ".py",
   "mimetype": "text/x-python",
   "name": "python",
   "nbconvert_exporter": "python",
   "pygments_lexer": "ipython3",
   "version": "3.8.10"
  },
  "orig_nbformat": 4
 },
 "nbformat": 4,
 "nbformat_minor": 2
}
