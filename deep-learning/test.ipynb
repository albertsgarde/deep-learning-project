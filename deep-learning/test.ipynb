{
 "cells": [
  {
   "cell_type": "code",
   "execution_count": 2,
   "metadata": {},
   "outputs": [
    {
     "name": "stdout",
     "output_type": "stream",
     "text": [
      "Collecting pip\n",
      "  Downloading pip-22.3-py3-none-any.whl (2.1 MB)\n",
      "\u001b[K     |████████████████████████████████| 2.1 MB 2.4 MB/s eta 0:00:01\n",
      "\u001b[?25hInstalling collected packages: pip\n",
      "  Attempting uninstall: pip\n",
      "    Found existing installation: pip 20.0.2\n",
      "    Not uninstalling pip at /usr/lib/python3/dist-packages, outside environment /usr\n",
      "    Can't uninstall 'pip'. No files were found to uninstall.\n",
      "Successfully installed pip-22.3\n",
      "Note: you may need to restart the kernel to use updated packages.\n",
      "Cloning into 'deep-learning-project'...\n",
      "remote: Enumerating objects: 427, done.\u001b[K\n",
      "remote: Counting objects: 100% (231/231), done.\u001b[K\n",
      "remote: Compressing objects: 100% (141/141), done.\u001b[K\n",
      "remote: Total 427 (delta 124), reused 164 (delta 61), pack-reused 196\u001b[K\n",
      "Receiving objects: 100% (427/427), 4.57 MiB | 1.73 MiB/s, done.\n",
      "Resolving deltas: 100% (232/232), done.\n",
      "HEAD is now at 92566af :poop: Remove dependencies from pyproject.toml\n",
      "Already up to date.\n",
      "Installing necessary linux packages...\n",
      "Installed necessary linux packages.\n",
      "Installing necessary python packages...\n",
      "Installed necessary python packages.\n",
      "Installing Rust...\n",
      "Installed Rust.\n",
      "Installing maturin...\n",
      "Installed Maturin.\n",
      "Building audio_samples_py...\n",
      "Built audio_samples_py.\n",
      "Installing audio_samples_py...\n",
      "Installed audio_samples_py.\n"
     ]
    }
   ],
   "source": [
    "if run_init:\n",
    "    %pip install -U pip\n",
    "    !if  [ ! -d \"deep-learning-project\" ] ; then git clone https://github.com/albertsgarde/deep-learning-project.git ; fi\n",
    "    !cd deep-learning-project && git reset --hard && git pull\n",
    "    !source deep-learning-project/setup.sh deep-learning-project\n",
    "run_init = False"
   ]
  },
  {
   "cell_type": "code",
   "execution_count": 1,
   "metadata": {},
   "outputs": [],
   "source": [
    "run_init = True"
   ]
  },
  {
   "cell_type": "code",
   "execution_count": null,
   "metadata": {},
   "outputs": [],
   "source": [
    "run_init = False"
   ]
  },
  {
   "cell_type": "code",
   "execution_count": 12,
   "metadata": {},
   "outputs": [],
   "source": [
    "import matplotlib.pyplot as plt\n",
    "import os\n",
    "from IPython.display import Audio, display\n",
    "import numpy as np\n",
    "\n",
    "import audio_samples_py as aus"
   ]
  },
  {
   "cell_type": "code",
   "execution_count": null,
   "metadata": {},
   "outputs": [],
   "source": [
    "#def plot_data_point(data_point):\n",
    "#    plt.figure(figsize=(10, 4))\n",
    "#    plt.plot(data_point.get_samples())\n",
    "#    plt.ylim(-1, 1)\n",
    "#    plt.show()\n",
    "#\n",
    "#def play_data_point(data_point):\n",
    "#    data_point.audio_to_file(\"play.wav\")\n",
    "#    display(Audio(\"play.wav\", autoplay=True))\n",
    "#    os.remove(\"play.wav\")"
   ]
  },
  {
   "cell_type": "code",
   "execution_count": 50,
   "metadata": {},
   "outputs": [],
   "source": [
    "data_parameters = aus.DataParameters(256, min_frequency=5000, max_frequency=5000)\n",
    "data_parameters = data_parameters.add_sine((1, 1))\n",
    "# The first parameter is the number of samples in each data point.\n",
    "\n",
    "# Generate a data point based on these parameters."
   ]
  },
  {
   "cell_type": "code",
   "execution_count": 52,
   "metadata": {},
   "outputs": [
    {
     "data": {
      "image/png": "[encoded data removed]",
      "text/plain": [
       "<Figure size 1000x400 with 1 Axes>"
      ]
     },
     "metadata": {},
     "output_type": "display_data"
    }
   ],
   "source": [
    "data_point = data_parameters.generate_at_index(1)\n",
    "audio = data_point.audio()\n",
    "fft = audio.fft()\n",
    "\n",
    "plt.figure(figsize=(10, 4))\n",
    "plt.ylim(0, fft.max()*1.2)\n",
    "plt.xlim(0, audio.sample_rate()/2)\n",
    "plt.plot(np.linspace(0, audio.sample_rate(), num=len(fft)), fft)\n",
    "plt.show()"
   ]
  }
 ],
 "metadata": {
  "kernelspec": {
   "display_name": "Python 3 (ipykernel)",
   "language": "python",
   "name": "python3"
  },
  "language_info": {
   "codemirror_mode": {
    "name": "ipython",
    "version": 3
   },
   "file_extension": ".py",
   "mimetype": "text/x-python",
   "name": "python",
   "nbconvert_exporter": "python",
   "pygments_lexer": "ipython3",
   "version": "3.8.10"
  },
  "orig_nbformat": 4
 },
 "nbformat": 4,
 "nbformat_minor": 2
}
