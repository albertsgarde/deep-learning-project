{
  "cells": [
    {
      "cell_type": "markdown",
      "metadata": {
        "id": "EpCdm5MTVLke"
      },
      "source": [
        "## Setup\n",
        "### Project setup"
      ]
    },
    {
      "cell_type": "code",
      "execution_count": 523,
      "metadata": {
        "id": "JAJzLPaqVLkj"
      },
      "outputs": [],
      "source": [
        "if run_init:\n",
        "    %pip install -U pip\n",
        "    !if  [ ! -d \"deep-learning-project\" ] ; then git clone https://github.com/albertsgarde/deep-learning-project.git; fi\n",
        "    !cd deep-learning-project && git checkout predict-note-instead-of-frequency && git reset --hard && git pull\n",
        "    !source deep-learning-project/setup.sh deep-learning-project\n",
        "    import os\n",
        "    os.chdir(\"deep-learning-project/deep-learning\")\n",
        "run_init = False"
      ]
    },
    {
      "cell_type": "code",
      "execution_count": 524,
      "metadata": {
        "id": "qGYtl2AsVLkm"
      },
      "outputs": [],
      "source": [
        "run_init = True"
      ]
    },
    {
      "cell_type": "code",
      "execution_count": 525,
      "metadata": {
        "id": "0ixbGgM3VLkn"
      },
      "outputs": [],
      "source": [
        "run_init = False"
      ]
    },
    {
      "cell_type": "markdown",
      "metadata": {
        "id": "ByS9iXtkVLko"
      },
      "source": [
        "### Imports"
      ]
    },
    {
      "cell_type": "code",
      "execution_count": 526,
      "metadata": {
        "id": "7h_vOCYPVLkp"
      },
      "outputs": [
        {
          "name": "stdout",
          "output_type": "stream",
          "text": [
            "0.1.7\n"
          ]
        },
        {
          "data": {
            "text/plain": [
              "<module 'utils' from '/app/deep-learning-project/deep-learning/utils.py'>"
            ]
          },
          "execution_count": 526,
          "metadata": {},
          "output_type": "execute_result"
        }
      ],
      "source": [
        "import matplotlib.pyplot as plt\n",
        "import IPython.display as display\n",
        "\n",
        "import numpy as np\n",
        "import itertools\n",
        "import torch\n",
        "import torch.nn as nn\n",
        "import torch.nn.functional as nn_func\n",
        "import torch.optim as optim\n",
        "from torch.autograd import Variable\n",
        "\n",
        "import audio_samples_py as aus\n",
        "print(aus.debug_txt())\n",
        "\n",
        "import utils\n",
        "\n",
        "import importlib\n",
        "importlib.reload(utils)"
      ]
    },
    {
      "cell_type": "markdown",
      "metadata": {
        "id": "Z74dCplZVLkq"
      },
      "source": [
        "### Device setup"
      ]
    },
    {
      "cell_type": "code",
      "execution_count": 527,
      "metadata": {
        "id": "4hg-wbljVLkr"
      },
      "outputs": [
        {
          "name": "stdout",
          "output_type": "stream",
          "text": [
            "Running GPU.\n"
          ]
        }
      ],
      "source": [
        "device, use_cuda = utils.setup_device(use_cuda_if_possible = True)"
      ]
    },
    {
      "cell_type": "markdown",
      "metadata": {
        "id": "OetAsjTMVLks"
      },
      "source": [
        "## Data\n",
        "### Parameters"
      ]
    },
    {
      "cell_type": "code",
      "execution_count": 528,
      "metadata": {
        "id": "X2BDxTBAVLku"
      },
      "outputs": [],
      "source": [
        "SAMPLE_LENGTH = 256\n",
        "BATCH_SIZE = 64\n",
        "SEED = 0 # Generates different data if changed. Useful to ensure that a result isn't a fluke.\n",
        "\n",
        "parameters = aus.DataParameters(num_samples=SAMPLE_LENGTH).add_sine((0.5,0.75))\n",
        "\n",
        "#def label_to_target(label: aus.DataPoint)"
      ]
    },
    {
      "cell_type": "markdown",
      "metadata": {
        "id": "Rq5XoGNBVLkv"
      },
      "source": [
        "### Generation"
      ]
    },
    {
      "cell_type": "code",
      "execution_count": 529,
      "metadata": {},
      "outputs": [],
      "source": [
        "def label_to_target(label):\n",
        "    note_number = round(label.note_number()) % 12\n",
        "    target = np.zeros(12, dtype=np.float32)\n",
        "    target[note_number] = 1\n",
        "    return target"
      ]
    },
    {
      "cell_type": "code",
      "execution_count": 530,
      "metadata": {
        "id": "ISgSLVdDVLkx"
      },
      "outputs": [],
      "source": [
        "from torch.utils.data.dataloader import default_collate\n",
        "\n",
        "def custom_collate(batch):\n",
        "    signals, ffts, targets, labels = list(zip(*batch))\n",
        "    return default_collate(list(signals)), default_collate(list(ffts)), default_collate(list(targets)), list(labels)\n",
        "\n",
        "\n",
        "class AudioDataSet(torch.utils.data.Dataset):\n",
        "    def __init__(self, parameters: aus.DataParameters, label_to_target):\n",
        "         self.parameters = parameters\n",
        "         self.label_to_target = label_to_target\n",
        "\n",
        "    def __len__(self):\n",
        "        return np.iinfo(np.int64).max\n",
        "    \n",
        "    def __getitem__(self, index):\n",
        "        data_point = self.parameters.generate_at_index(index)\n",
        "        label = data_point.label()\n",
        "        return data_point.samples(), data_point.audio().fft(), self.label_to_target(label), label\n",
        "\n",
        "def init_synth_data(parameters: aus.DataParameters, label_to_target, seed: int, batch_size: int):\n",
        "    assert seed >= 0, f\"seed must be non-negative. seed={seed}\"\n",
        "    assert batch_size > 0, f\"batch_size must be positive. batch_size={batch_size}\"\n",
        "\n",
        "    data_loader_params = {\"batch_size\": batch_size, \"collate_fn\": custom_collate}\n",
        "\n",
        "    training_parameters = parameters.with_seed_offset(seed)\n",
        "    training_loader = torch.utils.data.DataLoader(AudioDataSet(training_parameters, label_to_target), **data_loader_params)\n",
        "    validation_parameters = parameters.with_seed_offset(seed + 1)\n",
        "    validation_loader = torch.utils.data.DataLoader(AudioDataSet(validation_parameters, label_to_target), **data_loader_params)\n",
        "\n",
        "    return training_parameters, training_loader, validation_parameters, validation_loader\n",
        "    \n",
        "training_parameters, training_loader, validation_parameters, validation_loader = init_synth_data(parameters, label_to_target, SEED, BATCH_SIZE)"
      ]
    },
    {
      "cell_type": "markdown",
      "metadata": {
        "id": "r-TuEI2LVLk0"
      },
      "source": [
        "## Neural Network"
      ]
    },
    {
      "cell_type": "markdown",
      "metadata": {
        "id": "cnk9srl9_o6E"
      },
      "source": [
        "### Model definition."
      ]
    },
    {
      "cell_type": "code",
      "execution_count": 531,
      "metadata": {
        "id": "4O-SWu2s_o6E"
      },
      "outputs": [],
      "source": [
        "class ConvMod(nn.Module):\n",
        "    \"\"\"Convolutional module containing a list of convolutional layers with ReLU activation and optional batch normalization and dropout.\"\"\"\n",
        "    def __init__(self, name, input_size, depth, channels, kernel_sizes, strides, paddings, poolings, batchnorms, dropouts):\n",
        "        super(ConvMod, self).__init__()\n",
        "\n",
        "        # Ensure that all parameter lists are long enough.\n",
        "        assert len(channels) >= depth\n",
        "        assert len(kernel_sizes) >= depth\n",
        "        assert len(strides) >= depth\n",
        "        assert len(paddings) >= depth\n",
        "        assert len(poolings) >= depth\n",
        "        assert len(batchnorms) >= depth\n",
        "        assert len(dropouts) >= depth\n",
        "        for kernel_size in kernel_sizes:\n",
        "            assert kernel_size % 2 == 1, \"Only odd kernel sizes are supported.\"\n",
        "        for dropout in dropouts:\n",
        "            assert 0 <= dropout and dropout <= 1, \"Dropout must be between 0 and 1.\"\n",
        "\n",
        "        # Calculate the size of the output of each convolutional layer (for each channel).\n",
        "        conv_size = []\n",
        "        for i in range(depth):\n",
        "            conv_dim_reduction = kernel_sizes[i]-1-paddings[i]*2\n",
        "            assert (input_size - conv_dim_reduction) % (strides[i]*poolings[i]) == 0\n",
        "            conv_size.append(int((input_size - conv_dim_reduction)/strides[i]/poolings[i]))\n",
        "            input_size = conv_size[i]\n",
        "        for i in range(depth):\n",
        "            print(f\"{name} layer {i} output: size={conv_size[i]} channels={channels[i]}\")\n",
        "\n",
        "        # Calculate total size of the output of the convolutional layers.\n",
        "        self.output_size = conv_size[-1]*channels[-1]\n",
        "        \n",
        "        self.module_list = nn.ModuleList()\n",
        "        in_channels = 1\n",
        "        for i in range(depth):\n",
        "            conv = nn.Conv1d(in_channels=in_channels, out_channels=channels[i], kernel_size=kernel_sizes[i], stride=strides[i], padding=paddings[i])\n",
        "            in_channels = channels[i]\n",
        "            pool = nn.MaxPool1d(poolings[i])\n",
        "            batchnorm = nn.BatchNorm1d(channels[i]) if (batchnorms[i]) else nn.Identity()\n",
        "            dropout = nn.Dropout(p=dropouts[i])\n",
        "\n",
        "            self.module_list.append(nn.ModuleList([conv, pool, batchnorm, dropout]))\n",
        "    \n",
        "    def forward(self, x):\n",
        "        for conv, pool, batchnorm, dropout in self.module_list:\n",
        "            x = conv(x)\n",
        "            x = pool(x)\n",
        "            x = nn_func.relu(x)\n",
        "            x = batchnorm(x)\n",
        "            x = dropout(x)\n",
        "        \n",
        "        return x\n",
        "    \n",
        "    def total_output_size(self):\n",
        "        \"\"\" Returns the size of the output of the convolutional layers. \"\"\"\n",
        "        return self.output_size\n",
        "\n",
        "class LinMod(nn.Module):\n",
        "    def __init__(self, name, in_features, depth, features, batchnorms, dropouts):\n",
        "        super(LinMod, self).__init__()\n",
        "\n",
        "        # Ensure that all parameter lists are long enough.\n",
        "        assert in_features > 0\n",
        "        assert depth > 0\n",
        "        assert len(features) >= depth\n",
        "        assert len(batchnorms) >= depth\n",
        "        assert len(dropouts) >= depth\n",
        "        for dropout in dropouts:\n",
        "            assert 0 <= dropout and dropout <= 1, \"Dropout must be between 0 and 1.\"\n",
        "        for i in range(depth):\n",
        "            print(f\"{name} layer {i} output: size={features[i]}\")\n",
        "\n",
        "        self.module_list = nn.ModuleList()\n",
        "        for i in range(depth):\n",
        "            lin = nn.Linear(in_features=in_features, out_features=features[i])\n",
        "            in_features = features[i]\n",
        "            batchnorm = nn.BatchNorm1d(features[i]) if (batchnorms[i]) else nn.Identity()\n",
        "            dropout = nn.Dropout(p=dropouts[i])\n",
        "\n",
        "            self.module_list.append(nn.ModuleList([lin, batchnorm, dropout]))\n",
        "        \n",
        "        self.out_features = in_features\n",
        "\n",
        "    def forward(self, x):\n",
        "        for lin, batchnorm, dropout in self.module_list:\n",
        "            x = lin(x)\n",
        "            x = nn_func.relu(x)\n",
        "            x = batchnorm(x)\n",
        "            x = dropout(x)\n",
        "            \n",
        "        return x\n",
        "\n",
        "    def total_output_size(self):\n",
        "        return self.out_features\n",
        "\n",
        "\n",
        "class Net(nn.Module):\n",
        "    def __init__(self, signal_mod, fft_mod, lin_mod):\n",
        "        super(Net, self).__init__()\n",
        "        \n",
        "        self.signal_mod = signal_mod\n",
        "\n",
        "        self.fft_mod = fft_mod\n",
        "        \n",
        "        self.lin = lin_mod\n",
        "\n",
        "        self.lin_out = nn.Linear(in_features=self.lin.total_output_size(), out_features=12)\n",
        "        self.softmax = nn.Softmax(dim=1)\n",
        "        \n",
        "        \n",
        "    def forward(self, signal, fft):\n",
        "        features = []\n",
        "        if self.signal_mod:\n",
        "            signal_features = signal.unsqueeze(1)\n",
        "            signal_features = self.signal_mod(signal_features).flatten(1)\n",
        "            features.append(signal_features)\n",
        "        \n",
        "        if self.fft_mod:\n",
        "            fft_features = fft.unsqueeze(1) \n",
        "            fft_features = self.fft_mod(fft_features).flatten(1)\n",
        "            features.append(fft_features)\n",
        "\n",
        "        features = torch.cat(features, dim=1)\n",
        "\n",
        "        final_features = self.lin(features)\n",
        "            \n",
        "        return self.softmax(self.lin_out(final_features))"
      ]
    },
    {
      "cell_type": "markdown",
      "metadata": {
        "id": "MLAnanJZVLk0"
      },
      "source": [
        "### Parameters"
      ]
    },
    {
      "cell_type": "code",
      "execution_count": 532,
      "metadata": {
        "id": "qNgMtUn3VLk1"
      },
      "outputs": [
        {
          "name": "stdout",
          "output_type": "stream",
          "text": [
            "signal_conv layer 0 output: size=128 channels=8\n",
            "signal_conv layer 1 output: size=64 channels=8\n",
            "fft_conv layer 0 output: size=128 channels=8\n",
            "fft_conv layer 1 output: size=64 channels=8\n",
            "lin layer 0 output: size=256\n",
            "lin layer 1 output: size=128\n"
          ]
        }
      ],
      "source": [
        "signal_conv_depth = 2\n",
        "signal_kernel_sizes = [7, 7, 5, 5]\n",
        "signal_conv = ConvMod(\n",
        "    \"signal_conv\",\n",
        "    input_size = SAMPLE_LENGTH,\n",
        "    depth = signal_conv_depth,\n",
        "    channels = [8, 8, 8, 8], \n",
        "    kernel_sizes = signal_kernel_sizes, \n",
        "    strides = [1 for _ in range(signal_conv_depth)], \n",
        "    paddings = [int((kernel_size - 1)/2) for kernel_size in signal_kernel_sizes], \n",
        "    poolings = [2,2,2,2], \n",
        "    batchnorms = [False for _ in range(signal_conv_depth)], \n",
        "    dropouts = [0.0 for _ in range(signal_conv_depth)])\n",
        "#signal_conv = None\n",
        "\n",
        "fft_conv_depth = 2\n",
        "fft_kernel_sizes = [7, 7, 5, 5]\n",
        "fft_conv = ConvMod(\n",
        "    \"fft_conv\",\n",
        "    input_size = SAMPLE_LENGTH,\n",
        "    depth = fft_conv_depth,\n",
        "    channels = [8, 8, 8, 8], \n",
        "    kernel_sizes = fft_kernel_sizes, \n",
        "    strides = [1 for _ in range(fft_conv_depth)], \n",
        "    paddings = [int((kernel_size - 1)/2) for kernel_size in fft_kernel_sizes], \n",
        "    poolings = [2,2,2,2], \n",
        "    batchnorms = [False for _ in range(fft_conv_depth)], \n",
        "    dropouts = [0.0 for _ in range(fft_conv_depth)])\n",
        "#fft_conv = None\n",
        "\n",
        "lin_depth = 2\n",
        "lin_mod = LinMod(\n",
        "    \"lin\",\n",
        "    in_features=(signal_conv.total_output_size() if signal_conv else 0) + (fft_conv.total_output_size() if fft_conv else 0),\n",
        "    depth = lin_depth,\n",
        "    features = [256, 128],\n",
        "    batchnorms = [False for _ in range(lin_depth)],\n",
        "    dropouts = [0.0 for _ in range(lin_depth)]\n",
        ")"
      ]
    },
    {
      "cell_type": "markdown",
      "metadata": {
        "id": "xAYW93NKVLk3"
      },
      "source": [
        "### Network"
      ]
    },
    {
      "cell_type": "code",
      "execution_count": 533,
      "metadata": {
        "id": "4aC9CSpPVLk3"
      },
      "outputs": [],
      "source": [
        "assert signal_conv or fft_conv, \"Either signal or fft must be used.\"\n",
        "\n",
        "net = Net(signal_conv, fft_conv, lin_mod)\n",
        "if use_cuda:\n",
        "    net.cuda()"
      ]
    },
    {
      "cell_type": "markdown",
      "metadata": {
        "id": "33PC3H1tVLk4"
      },
      "source": [
        "## Training"
      ]
    },
    {
      "cell_type": "code",
      "execution_count": 534,
      "metadata": {
        "id": "kLbmywdRVLk5"
      },
      "outputs": [],
      "source": [
        "LEARNING_RATE = 2e-5\n",
        "WEIGHT_DECAY = 0"
      ]
    },
    {
      "cell_type": "code",
      "execution_count": 535,
      "metadata": {
        "id": "MLXdnp1sVLk5"
      },
      "outputs": [],
      "source": [
        "criterion = nn.CrossEntropyLoss()  \n",
        "\n",
        "# weight_decay is equal to L2 regularization\n",
        "optimizer = optim.AdamW(net.parameters(), lr=LEARNING_RATE, weight_decay=WEIGHT_DECAY) "
      ]
    },
    {
      "cell_type": "code",
      "execution_count": 536,
      "metadata": {},
      "outputs": [],
      "source": [
        "def note_diff(note1, note2):\n",
        "    return min(abs(note1-note2), 12 - abs(note1-note2))\n",
        "\n",
        "def mean_note_err(parameters, output, target):\n",
        "    target_note = np.apply_along_axis(np.argmax, 1, utils.to_numpy(target))\n",
        "    output_note = np.apply_along_axis(np.argmax, 1, utils.to_numpy(output))\n",
        "    note_err = np.vectorize(note_diff)(target_note, output_note)\n",
        "    return note_err.mean()\n",
        "\n",
        "def note_err(output, target):\n",
        "    output_note = np.argmax(output)\n",
        "    target_note = np.argmax(target)\n",
        "    return note_diff(output_note, target_note)\n",
        "\n",
        "eval_funcs = [note_err]\n",
        "\n",
        "def target_note_from_label(label):\n",
        "    freq_map = label.frequency_map()\n",
        "    return round(validation_parameters.map_to_note_number(freq_map)) % 12\n",
        "\n",
        "manual_test_funcs = {\n",
        "    \"Target note\": lambda output, target, label: np.argmax(target),\n",
        "    \"Output note\": lambda output, target, label: np.argmax(output),\n",
        "}\n",
        "\n",
        "def mean_minibatch_err(output, target, error_function):\n",
        "    assert output.shape == target.shape\n",
        "    total = 0\n",
        "    for i, output_row in enumerate(output):\n",
        "        total += error_function(output_row, target[i,:])\n",
        "    return total*1./output.shape[0]\n",
        "\n",
        "def test_net(net, validation_loader, criterion, num_validation_batches, error_functions):\n",
        "    r\"\"\"\n",
        "        Args:\n",
        "            net: the model to test.\n",
        "            validation_loader: a data loader that outputs validation data.\n",
        "            criterion: the loss function.\n",
        "            num_validation_batches: how many batches to validate the model on.\n",
        "            error_functions: a list of functions taking the model output and the target and returning a floating point error measure.\n",
        "    \"\"\"\n",
        "    was_training = net.training\n",
        "    net.eval()\n",
        "    total_loss = 0\n",
        "    total_errors = [0] * len(error_functions)\n",
        "    for signal, fft, target, _ in itertools.islice(validation_loader, num_validation_batches):\n",
        "        signal = signal.to(device)\n",
        "        fft = fft.to(device)\n",
        "        target = target.to(device)\n",
        "        output = net(signal, fft)\n",
        "        \n",
        "        total_loss += criterion(output, target)\n",
        "\n",
        "        output = utils.to_numpy(output)\n",
        "        target = utils.to_numpy(target)\n",
        "        for i, error_function in enumerate(error_functions):\n",
        "            total_errors[i] += mean_minibatch_err(output, target, error_function)\n",
        "\n",
        "    net.train(mode=was_training)\n",
        "    return total_loss.item()/num_validation_batches, list(map(lambda x: x / num_validation_batches, total_errors))\n",
        "\n",
        "def manual_test(net, validation_loader, num_samples, output_functions):\n",
        "    r\"\"\"\n",
        "        Args:\n",
        "            net: the model to test\n",
        "            validation_loader: a data loader that outputs validation data.\n",
        "            num_samples: number of samples to test.\n",
        "            output_functions: a map of functions taking the model output, and data point target and label as input and returning a value to be printed.\n",
        "    \"\"\"\n",
        "    was_training = net.training\n",
        "    net.eval()\n",
        "    \n",
        "    prints_remaining = num_samples\n",
        "    for signal, fft, target, label in itertools.islice(validation_loader, int(num_samples/BATCH_SIZE) + 1):\n",
        "        signal = signal.to(device)\n",
        "        fft = fft.to(device)\n",
        "        output = net(signal, fft)\n",
        "\n",
        "        output = utils.to_numpy(output)\n",
        "        for i in range(min(prints_remaining, BATCH_SIZE)):\n",
        "            output_string = \"\"\n",
        "            for name, output_function in output_functions.items():\n",
        "                output_string += f\"{name}: {output_function(output[i,:], target[i,:], label[i])} \"\n",
        "            print(output_string)\n",
        "        prints_remaining -= BATCH_SIZE\n",
        "\n",
        "    net.train(mode=was_training)"
      ]
    },
    {
      "cell_type": "code",
      "execution_count": 537,
      "metadata": {
        "id": "PbqU-FdsVLk6"
      },
      "outputs": [
        {
          "data": {
            "image/png": "[encoded data removed]",
            "text/plain": [
              "<Figure size 1200x400 with 2 Axes>"
            ]
          },
          "metadata": {},
          "output_type": "display_data"
        },
        {
          "name": "stdout",
          "output_type": "stream",
          "text": [
            "Loss=2.4205662536621095, Note diff=1.93\n",
            "Target note: 5 Output note: 8 \n",
            "Target note: 10 Output note: 1 \n",
            "Target note: 8 Output note: 8 \n",
            "Target note: 4 Output note: 1 \n",
            "Target note: 2 Output note: 1 \n"
          ]
        }
      ],
      "source": [
        "NUM_BATCHES = 1000\n",
        "EVAL_EVERY = 100\n",
        "NUM_VALIDATION_BATCHES = 100\n",
        "LOG_EVERY = EVAL_EVERY\n",
        "\n",
        "\n",
        "train_log_losses = []\n",
        "train_diffs = []\n",
        "train_iter = []\n",
        "\n",
        "val_log_losses = []\n",
        "val_diffs = []\n",
        "val_iter = []\n",
        "\n",
        "manual_test(net, validation_loader, 5, manual_test_funcs)\n",
        "net.train()\n",
        "for i, (signal, fft, target, label) in enumerate(itertools.islice(training_loader, NUM_BATCHES+1)):\n",
        "    if i%EVAL_EVERY == 0:\n",
        "        val_loss, [val_cent_diff,] = test_net(net, validation_loader, criterion, NUM_VALIDATION_BATCHES, eval_funcs)\n",
        "        val_log_losses.append(np.log10(val_loss))\n",
        "        val_diffs.append(val_cent_diff)\n",
        "        val_iter.append(i)\n",
        "\n",
        "    signal = signal.to(device)\n",
        "    fft = fft.to(device)\n",
        "    target = target.to(device)\n",
        "    output = net(signal, fft)\n",
        "    loss = criterion(output, target)\n",
        "\n",
        "    \n",
        "    train_log_losses.append(np.log10(loss.item()))\n",
        "    train_diffs.append(mean_note_err(parameters, output, target))\n",
        "    train_iter.append(i)\n",
        "\n",
        "    optimizer.zero_grad()\n",
        "    loss.backward()\n",
        "    optimizer.step()\n",
        "\n",
        "    if i % LOG_EVERY == 0:\n",
        "        display.clear_output(wait=True)\n",
        "        fig = plt.figure(figsize=(12, 4))\n",
        "        plt.subplot(1, 2, 1)\n",
        "        plt.plot(train_iter, train_log_losses, label=\"Training Loss\")\n",
        "        plt.plot(val_iter, val_log_losses, label=\"Validation Loss\")\n",
        "        plt.xlim(0, NUM_BATCHES+1)\n",
        "        plt.legend()\n",
        "\n",
        "        plt.subplot(1, 2, 2)\n",
        "        plt.plot(train_iter, train_diffs, label=\"Training Note Diff\")\n",
        "        plt.plot(val_iter, val_diffs, label=\"Validation Note Diff\")\n",
        "        plt.ylim(0, 6)\n",
        "        plt.xlim(0, NUM_BATCHES+1)\n",
        "        plt.legend()\n",
        "        plt.show()\n",
        "\n",
        "val_loss, [val_note_diff,] = test_net(net, validation_loader, criterion, NUM_VALIDATION_BATCHES, eval_funcs)\n",
        "print(f\"Loss={val_loss}, Note diff={val_note_diff:.2f}\")\n",
        "\n",
        "manual_test(net, validation_loader, 5, manual_test_funcs)"
      ]
    }
  ],
  "metadata": {
    "colab": {
      "provenance": []
    },
    "kernelspec": {
      "display_name": "Python 3 (ipykernel)",
      "language": "python",
      "name": "python3"
    },
    "language_info": {
      "codemirror_mode": {
        "name": "ipython",
        "version": 3
      },
      "file_extension": ".py",
      "mimetype": "text/x-python",
      "name": "python",
      "nbconvert_exporter": "python",
      "pygments_lexer": "ipython3",
      "version": "3.8.10"
    },
    "orig_nbformat": 4
  },
  "nbformat": 4,
  "nbformat_minor": 0
}
