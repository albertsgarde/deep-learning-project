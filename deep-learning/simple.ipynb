{
 "cells": [
  {
   "cell_type": "markdown",
   "metadata": {},
   "source": [
    "## Setup\n",
    "### Project setup"
   ]
  },
  {
   "cell_type": "code",
   "execution_count": 70,
   "metadata": {},
   "outputs": [],
   "source": [
    "if run_init:\n",
    "    %pip install -U pip\n",
    "    !if  [ ! -d \"deep-learning-project\" ] ; then git clone https://github.com/albertsgarde/deep-learning-project.git; fi\n",
    "    !cd deep-learning-project && git reset --hard && git pull\n",
    "    !source deep-learning-project/setup.sh deep-learning-project\n",
    "run_init = False"
   ]
  },
  {
   "cell_type": "code",
   "execution_count": 71,
   "metadata": {},
   "outputs": [],
   "source": [
    "run_init = True"
   ]
  },
  {
   "cell_type": "code",
   "execution_count": 72,
   "metadata": {},
   "outputs": [],
   "source": [
    "run_init = False"
   ]
  },
  {
   "cell_type": "markdown",
   "metadata": {},
   "source": [
    "### Imports"
   ]
  },
  {
   "cell_type": "code",
   "execution_count": 73,
   "metadata": {},
   "outputs": [],
   "source": [
    "import matplotlib.pyplot as plt\n",
    "import IPython.display as display\n",
    "\n",
    "import numpy as np\n",
    "import itertools\n",
    "import torch\n",
    "import torch.nn as nn\n",
    "import torch.nn.functional as nn_func\n",
    "import torch.optim as optim\n",
    "from torch.autograd import Variable\n",
    "\n",
    "import audio_samples_py as aus"
   ]
  },
  {
   "cell_type": "markdown",
   "metadata": {},
   "source": [
    "### Device setup"
   ]
  },
  {
   "cell_type": "code",
   "execution_count": 74,
   "metadata": {},
   "outputs": [
    {
     "name": "stdout",
     "output_type": "stream",
     "text": [
      "Running GPU.\n"
     ]
    }
   ],
   "source": [
    "use_cuda = torch.cuda.is_available() and True\n",
    "device = torch.device(\"cuda\" if use_cuda else \"cpu\")\n",
    "print(\"Running GPU.\") if use_cuda else print(\"No GPU available.\")"
   ]
  },
  {
   "cell_type": "markdown",
   "metadata": {},
   "source": [
    "## Data\n",
    "### Parameters"
   ]
  },
  {
   "cell_type": "code",
   "execution_count": 75,
   "metadata": {},
   "outputs": [],
   "source": [
    "SAMPLE_LENGTH = 256\n",
    "BATCH_SIZE = 64\n",
    "\n",
    "parameters = aus.DataParameters(num_samples=SAMPLE_LENGTH).add_sine((0.5,0.75))"
   ]
  },
  {
   "cell_type": "markdown",
   "metadata": {},
   "source": [
    "### Generation"
   ]
  },
  {
   "cell_type": "code",
   "execution_count": 76,
   "metadata": {},
   "outputs": [],
   "source": [
    "import warnings\n",
    "\n",
    "class AudioDataSet(torch.utils.data.Dataset):\n",
    "    def __init__(self, parameters: aus.DataParameters):\n",
    "         self.parameters = parameters\n",
    "\n",
    "    def __len__(self):\n",
    "        return np.iinfo(np.int64).max\n",
    "    \n",
    "    def __getitem__(self, index):\n",
    "        data_point = self.parameters.generate_at_index(index)\n",
    "        return data_point.samples(), torch.tensor([data_point.frequency_map()]).unsqueeze(0)\n",
    "\n"
   ]
  },
  {
   "cell_type": "code",
   "execution_count": 77,
   "metadata": {},
   "outputs": [],
   "source": [
    "data_loader_params = {\"batch_size\": BATCH_SIZE}\n",
    "\n",
    "training_parameters = parameters.with_seed_offset(0)\n",
    "training_loader = torch.utils.data.DataLoader(AudioDataSet(training_parameters), **data_loader_params)\n",
    "validation_parameters = parameters.with_seed_offset(1)\n",
    "validation_generator = aus.DataGenerator(validation_parameters)\n",
    "validation_loader = torch.utils.data.DataLoader(AudioDataSet(validation_parameters), **data_loader_params)\n"
   ]
  },
  {
   "cell_type": "code",
   "execution_count": 78,
   "metadata": {},
   "outputs": [],
   "source": [
    "def get_numpy(x):\n",
    "    \"\"\" Get numpy array for both cuda and not. \"\"\"\n",
    "    if use_cuda:\n",
    "        return x.cpu().data.numpy()\n",
    "    return x.data.numpy()"
   ]
  },
  {
   "cell_type": "markdown",
   "metadata": {},
   "source": [
    "## Neural Network"
   ]
  },
  {
   "cell_type": "markdown",
   "metadata": {},
   "source": [
    "### Network Parameters"
   ]
  },
  {
   "cell_type": "code",
   "execution_count": 79,
   "metadata": {},
   "outputs": [],
   "source": [
    "conv_depth = 2\n",
    "channels = [8, 8, 8, 8]\n",
    "kernel_sizes = [5, 5, 5, 5]\n",
    "strides = [1 for _ in range(conv_depth)]\n",
    "paddings = [int((kernel_size - 1)/2) for kernel_size in kernel_sizes]\n",
    "poolings = [2,2,2,2]\n",
    "conv_batch_norms = [False for _ in range(conv_depth)]\n",
    "conv_dropouts = [0.0 for _ in range(conv_depth)]\n",
    "\n",
    "\n",
    "lin_depth = 2\n",
    "features = [256, 128]\n",
    "lin_batch_norms = [False for _ in range(lin_depth)]\n",
    "lin_dropouts = [0.0 for _ in range(lin_depth)]"
   ]
  },
  {
   "cell_type": "markdown",
   "metadata": {},
   "source": [
    "### Parameter validation and processing"
   ]
  },
  {
   "cell_type": "code",
   "execution_count": 80,
   "metadata": {},
   "outputs": [
    {
     "name": "stdout",
     "output_type": "stream",
     "text": [
      "Conv layer 0 has output size 128 and 8 channels.\n",
      "Conv layer 1 has output size 64 and 8 channels.\n",
      "Lin layer 0 has output size 256.\n",
      "Lin layer 1 has output size 128.\n"
     ]
    }
   ],
   "source": [
    "assert len(channels) >= conv_depth\n",
    "assert len(kernel_sizes) >= conv_depth\n",
    "assert len(strides) >= conv_depth\n",
    "assert len(paddings) >= conv_depth\n",
    "assert len(poolings) >= conv_depth\n",
    "assert len(conv_batch_norms) >= conv_depth\n",
    "assert len(conv_dropouts) >= conv_depth\n",
    "for kernel_size in kernel_sizes:\n",
    "    assert kernel_size % 2 == 1, \"Only odd kernel sizes are supported.\"\n",
    "for dropout in conv_dropouts:\n",
    "    assert 0 <= dropout and dropout <= 1, \"Dropout must be between 0 and 1.\"\n",
    "\n",
    "conv_size = []\n",
    "input_size = SAMPLE_LENGTH\n",
    "for i in range(conv_depth):\n",
    "    conv_dim_reduction = kernel_sizes[i]-1-paddings[i]*2\n",
    "    assert (input_size - conv_dim_reduction) % (strides[i]*poolings[i]) == 0\n",
    "    conv_size.append(int((input_size - conv_dim_reduction)/strides[i]/poolings[i]))\n",
    "    input_size = conv_size[i]\n",
    "    print(\"Conv layer {} has output size {} and {} channels.\".format(i, conv_size[i], channels[i]))\n",
    "\n",
    "conv_output_size = conv_size[-1]*channels[-1]\n",
    "\n",
    "\n",
    "assert len(features) >= lin_depth\n",
    "assert len(lin_batch_norms) >= lin_depth\n",
    "assert len(lin_dropouts) >= lin_depth\n",
    "for dropout in lin_dropouts:\n",
    "    assert 0 <= dropout and dropout <= 1, \"Dropout must be between 0 and 1.\"\n",
    "for i in range(lin_depth):\n",
    "    print(\"Lin layer {} has output size {}.\".format(i, features[i]))"
   ]
  },
  {
   "cell_type": "markdown",
   "metadata": {},
   "source": [
    "### Network"
   ]
  },
  {
   "cell_type": "code",
   "execution_count": 81,
   "metadata": {},
   "outputs": [
    {
     "name": "stdout",
     "output_type": "stream",
     "text": [
      "Net(\n",
      "  (convs): ModuleList(\n",
      "    (0): ModuleList(\n",
      "      (0): Conv1d(1, 8, kernel_size=(5,), stride=(1,), padding=(2,))\n",
      "      (1): MaxPool1d(kernel_size=2, stride=2, padding=0, dilation=1, ceil_mode=False)\n",
      "      (2): Identity()\n",
      "      (3): Dropout(p=0.0, inplace=False)\n",
      "    )\n",
      "    (1): ModuleList(\n",
      "      (0): Conv1d(8, 8, kernel_size=(5,), stride=(1,), padding=(2,))\n",
      "      (1): MaxPool1d(kernel_size=2, stride=2, padding=0, dilation=1, ceil_mode=False)\n",
      "      (2): Identity()\n",
      "      (3): Dropout(p=0.0, inplace=False)\n",
      "    )\n",
      "  )\n",
      "  (lins): ModuleList(\n",
      "    (0): ModuleList(\n",
      "      (0): Linear(in_features=512, out_features=256, bias=True)\n",
      "      (1): Identity()\n",
      "      (2): Dropout(p=0.0, inplace=False)\n",
      "    )\n",
      "    (1): ModuleList(\n",
      "      (0): Linear(in_features=256, out_features=128, bias=True)\n",
      "      (1): Identity()\n",
      "      (2): Dropout(p=0.0, inplace=False)\n",
      "    )\n",
      "  )\n",
      "  (lin_out): Linear(in_features=128, out_features=1, bias=True)\n",
      ")\n"
     ]
    }
   ],
   "source": [
    "class Net(nn.Module):\n",
    "    def __init__(self):\n",
    "        super(Net, self).__init__()\n",
    "        \n",
    "        self.convs = nn.ModuleList()\n",
    "        in_channels = 1\n",
    "        for i in range(conv_depth):\n",
    "            conv = nn.Conv1d(in_channels=in_channels, out_channels=channels[i], kernel_size=kernel_sizes[i], stride=strides[i], padding=paddings[i])\n",
    "            in_channels = channels[i]\n",
    "            pool = nn.MaxPool1d(poolings[i])\n",
    "            batchnorm = nn.BatchNorm1d(channels[i]) if (conv_batch_norms[i]) else nn.Identity()\n",
    "            dropout = nn.Dropout(p=conv_dropouts[i])\n",
    "\n",
    "            self.convs.append(nn.ModuleList([conv, pool, batchnorm, dropout]))\n",
    "        \n",
    "        self.lins = nn.ModuleList()\n",
    "        in_features = conv_output_size\n",
    "        for i in range(lin_depth):\n",
    "            lin = nn.Linear(in_features=in_features, out_features=features[i])\n",
    "            in_features = features[i]\n",
    "            batchnorm = nn.BatchNorm1d(features[i]) if (lin_batch_norms[i]) else nn.Identity()\n",
    "            dropout = nn.Dropout(p=lin_dropouts[i])\n",
    "\n",
    "            self.lins.append(nn.ModuleList([lin, batchnorm, dropout]))\n",
    "\n",
    "        self.lin_out = nn.Linear(in_features=in_features, out_features=1)\n",
    "        \n",
    "        \n",
    "    def forward(self, x):\n",
    "        x = x.unsqueeze(1)\n",
    "\n",
    "        for conv, pool, batchnorm, dropout in self.convs:\n",
    "            x = conv(x)\n",
    "            x = pool(x)\n",
    "            x = nn_func.relu(x)\n",
    "            x = batchnorm(x)\n",
    "            x = dropout(x)\n",
    "\n",
    "        x = x.flatten(1)\n",
    "\n",
    "        for lin, batchnorm, dropout in self.lins:\n",
    "            x = lin(x)\n",
    "            x = nn_func.relu(x)\n",
    "            x = batchnorm(x)\n",
    "            x = dropout(x)\n",
    "            \n",
    "        return self.lin_out(x).unsqueeze(1)\n",
    "\n",
    "net = Net()\n",
    "if use_cuda:\n",
    "    net.cuda()\n",
    "print(net)"
   ]
  },
  {
   "cell_type": "markdown",
   "metadata": {},
   "source": [
    "## Training"
   ]
  },
  {
   "cell_type": "code",
   "execution_count": 82,
   "metadata": {},
   "outputs": [],
   "source": [
    "LEARNING_RATE = 1e-5\n",
    "WEIGHT_DECAY = 1e-5"
   ]
  },
  {
   "cell_type": "code",
   "execution_count": 83,
   "metadata": {},
   "outputs": [],
   "source": [
    "criterion = nn.MSELoss()  \n",
    "\n",
    "# weight_decay is equal to L2 regularization\n",
    "optimizer = optim.AdamW(net.parameters(), lr=LEARNING_RATE, weight_decay=WEIGHT_DECAY) "
   ]
  },
  {
   "cell_type": "code",
   "execution_count": 84,
   "metadata": {},
   "outputs": [],
   "source": [
    "def to_torch(x):\n",
    "    variable = Variable(torch.from_numpy(x))\n",
    "    if use_cuda:\n",
    "        variable = variable.cuda()\n",
    "    return variable\n",
    "\n",
    "def mean_cent_err(freq_map, output):\n",
    "    target_frequency = np.array(list(map(parameters.map_to_frequency, get_numpy(freq_map))))\n",
    "    output_frequency = np.array(list(map(parameters.map_to_frequency, get_numpy(output))))\n",
    "    return np.array([abs(aus.cent_diff(target_frequency, output_frequency)) for target_frequency, output_frequency in zip(target_frequency, output_frequency)]).mean()\n",
    "\n",
    "def test_net(net, validation_loader, criterion):\n",
    "    was_training = net.training\n",
    "    net.eval()\n",
    "    num_iterations = 100\n",
    "    total_loss = 0\n",
    "    total_cent_diff = 0\n",
    "    for data_point, freq_map in itertools.islice(validation_loader, num_iterations):\n",
    "        data_point = data_point.to(device)\n",
    "        freq_map = freq_map.to(device)\n",
    "        output = net(data_point)\n",
    "        \n",
    "        total_loss += criterion(output, freq_map)\n",
    "        total_cent_diff += mean_cent_err(freq_map, output)\n",
    "    net.train(mode=was_training)\n",
    "    return total_loss.item()/num_iterations, total_cent_diff/num_iterations\n",
    "\n",
    "def manual_test(net, validation_generator):\n",
    "    was_training = net.training\n",
    "    net.eval()\n",
    "    num_iterations = 5\n",
    "    for data_point in validation_generator.next_n(num_iterations):\n",
    "        samples = to_torch(data_point.samples()).unsqueeze(0)\n",
    "        freq_map = to_torch(np.array([data_point.frequency_map()])).unsqueeze(0)\n",
    "        output = net(samples)\n",
    "        target_frequency = parameters.map_to_frequency(freq_map.item())\n",
    "        output_frequency = parameters.map_to_frequency(output.item())\n",
    "        print(\"Frequency: {:.2f} Output: {:.2f} Cent diff: {:.2f}\".format(target_frequency, output_frequency, aus.cent_diff(target_frequency, output_frequency)))\n",
    "    net.train(mode=was_training)\n",
    "\n"
   ]
  },
  {
   "cell_type": "code",
   "execution_count": 85,
   "metadata": {},
   "outputs": [
    {
     "data": {
      "image/png": "[encoded data removed]",
      "text/plain": [
       "<Figure size 1200x400 with 2 Axes>"
      ]
     },
     "metadata": {},
     "output_type": "display_data"
    }
   ],
   "source": [
    "NUM_BATCHES = 10000\n",
    "EVAL_EVERY = 1000\n",
    "LOG_EVERY = EVAL_EVERY\n",
    "\n",
    "\n",
    "train_log_losses = []\n",
    "train_diffs = []\n",
    "train_iter = []\n",
    "\n",
    "val_log_losses = []\n",
    "val_diffs = []\n",
    "val_iter = []\n",
    "\n",
    "net.train()\n",
    "for i, (data_point, frequency_map) in enumerate(itertools.islice(training_loader, NUM_BATCHES+1)):\n",
    "    if i%EVAL_EVERY == 0:\n",
    "        val_loss, val_cent_diff = test_net(net, validation_loader, criterion)\n",
    "        val_log_losses.append(np.log10(val_loss))\n",
    "        val_diffs.append(val_cent_diff)\n",
    "        val_iter.append(i)\n",
    "\n",
    "    data_point = data_point.to(device)\n",
    "    frequency_map = frequency_map.to(device)\n",
    "    output = net(data_point)\n",
    "    loss = criterion(output, frequency_map)\n",
    "\n",
    "    \n",
    "    train_log_losses.append(np.log10(loss.item()))\n",
    "    train_diffs.append(mean_cent_err(frequency_map, output))\n",
    "    train_iter.append(i)\n",
    "\n",
    "    optimizer.zero_grad()\n",
    "    loss.backward()\n",
    "    optimizer.step()\n",
    "\n",
    "    if i % LOG_EVERY == 0:\n",
    "        display.clear_output(wait=True)\n",
    "        fig = plt.figure(figsize=(12, 4))\n",
    "        plt.subplot(1, 2, 1)\n",
    "        plt.plot(train_iter, train_log_losses, label=\"Training Loss\")\n",
    "        plt.plot(val_iter, val_log_losses, label=\"Validation Loss\")\n",
    "        plt.xlim(0, NUM_BATCHES+1)\n",
    "        plt.legend()\n",
    "\n",
    "        plt.subplot(1, 2, 2)\n",
    "        plt.plot(train_iter, train_diffs, label=\"Training Cent Diff\")\n",
    "        plt.plot(val_iter, val_diffs, label=\"Validation Cent Diff\")\n",
    "        plt.axhline(y=5, color='r', linestyle='-')\n",
    "        plt.ylim(0, 500)\n",
    "        plt.xlim(0, NUM_BATCHES+1)\n",
    "        plt.legend()\n",
    "        plt.show()\n",
    "\n",
    "val_loss, val_cent_diff = test_net(net, validation_loader, criterion)\n",
    "print(f\"{i}: Loss={val_loss}, Cent diff={val_cent_diff:.2f}\")\n",
    "\n",
    "manual_test(net, validation_generator)\n"
   ]
  },
  {
   "cell_type": "code",
   "execution_count": null,
   "metadata": {},
   "outputs": [
    {
     "name": "stdout",
     "output_type": "stream",
     "text": [
      "Frequency: 260.95 Output: 259.57 Cent diff: -9.17\n",
      "Frequency: 15659.84 Output: 15457.69 Cent diff: -22.49\n",
      "Frequency: 5092.42 Output: 4668.81 Cent diff: -150.36\n",
      "Frequency: 193.82 Output: 192.73 Cent diff: -9.72\n",
      "Frequency: 387.67 Output: 384.44 Cent diff: -14.48\n"
     ]
    },
    {
     "data": {
      "text/plain": [
       "(0.00014255411922931672, 43.08374833389338)"
      ]
     },
     "execution_count": 69,
     "metadata": {},
     "output_type": "execute_result"
    }
   ],
   "source": [
    "manual_test(net, validation_generator)\n",
    "test_net(net, validation_loader, criterion)"
   ]
  },
  {
   "cell_type": "code",
   "execution_count": null,
   "metadata": {},
   "outputs": [],
   "source": []
  },
  {
   "cell_type": "markdown",
   "metadata": {},
   "source": []
  }
 ],
 "metadata": {
  "kernelspec": {
   "display_name": "Python 3 (ipykernel)",
   "language": "python",
   "name": "python3"
  },
  "language_info": {
   "codemirror_mode": {
    "name": "ipython",
    "version": 3
   },
   "file_extension": ".py",
   "mimetype": "text/x-python",
   "name": "python",
   "nbconvert_exporter": "python",
   "pygments_lexer": "ipython3",
   "version": "3.8.10"
  },
  "orig_nbformat": 4
 },
 "nbformat": 4,
 "nbformat_minor": 2
}
