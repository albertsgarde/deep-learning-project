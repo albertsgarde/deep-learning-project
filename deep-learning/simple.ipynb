{
 "cells": [
  {
   "cell_type": "markdown",
   "metadata": {},
   "source": [
    "## Setup\n",
    "### Project setup"
   ]
  },
  {
   "cell_type": "code",
   "execution_count": 886,
   "metadata": {},
   "outputs": [],
   "source": [
    "if run_init:\n",
    "    %pip install -U pip\n",
    "    !if  [ ! -d \"deep-learning-project\" ] ; then git clone https://github.com/albertsgarde/deep-learning-project.git; fi\n",
    "    !cd deep-learning-project && git reset --hard && git pull\n",
    "    !source deep-learning-project/setup.sh deep-learning-project\n",
    "run_init = False"
   ]
  },
  {
   "cell_type": "code",
   "execution_count": 887,
   "metadata": {},
   "outputs": [],
   "source": [
    "run_init = True"
   ]
  },
  {
   "cell_type": "code",
   "execution_count": 888,
   "metadata": {},
   "outputs": [],
   "source": [
    "run_init = False"
   ]
  },
  {
   "cell_type": "markdown",
   "metadata": {},
   "source": [
    "### Imports"
   ]
  },
  {
   "cell_type": "code",
   "execution_count": 889,
   "metadata": {},
   "outputs": [],
   "source": [
    "import numpy as np\n",
    "import itertools\n",
    "import torch\n",
    "import torch.nn as nn\n",
    "import torch.nn.functional as nn_func\n",
    "import torch.optim as optim\n",
    "from torch.autograd import Variable\n",
    "\n",
    "import audio_samples_py as aus"
   ]
  },
  {
   "cell_type": "markdown",
   "metadata": {},
   "source": [
    "### Device setup"
   ]
  },
  {
   "cell_type": "code",
   "execution_count": 890,
   "metadata": {},
   "outputs": [
    {
     "name": "stdout",
     "output_type": "stream",
     "text": [
      "Running GPU.\n"
     ]
    }
   ],
   "source": [
    "use_cuda = torch.cuda.is_available()\n",
    "device = torch.device(\"cuda\" if use_cuda else \"cpu\")\n",
    "print(\"Running GPU.\") if use_cuda else print(\"No GPU available.\")"
   ]
  },
  {
   "cell_type": "markdown",
   "metadata": {},
   "source": [
    "## Data\n",
    "### Parameters"
   ]
  },
  {
   "cell_type": "code",
   "execution_count": 891,
   "metadata": {},
   "outputs": [],
   "source": [
    "SAMPLE_LENGTH = 256"
   ]
  },
  {
   "cell_type": "markdown",
   "metadata": {},
   "source": [
    "### Generation"
   ]
  },
  {
   "cell_type": "code",
   "execution_count": 892,
   "metadata": {},
   "outputs": [],
   "source": [
    "import warnings\n",
    "\n",
    "class AudioDataSet(torch.utils.data.Dataset):\n",
    "    def __init__(self, parameters: aus.DataParameters):\n",
    "         self.parameters = parameters\n",
    "\n",
    "    def __len__(self):\n",
    "        return np.iinfo(np.int64).max\n",
    "    \n",
    "    def __getitem__(self, index):\n",
    "        data_point = self.parameters.generate_at_index(index)\n",
    "        return data_point.get_samples(), torch.tensor([data_point.get_frequency_map()]).unsqueeze(0)\n",
    "\n"
   ]
  },
  {
   "cell_type": "code",
   "execution_count": 893,
   "metadata": {},
   "outputs": [],
   "source": [
    "\n",
    "data_loader_params = {\"batch_size\": 16}\n",
    "\n",
    "parameters = aus.DataParameters(num_samples=SAMPLE_LENGTH).add_sine((0.5,0.75))\n",
    "training_parameters = parameters.with_seed_offset(0)\n",
    "training_generator = aus.DataGenerator(training_parameters)\n",
    "training_loader = torch.utils.data.DataLoader(AudioDataSet(training_parameters), **data_loader_params)\n",
    "validation_parameters = parameters.with_seed_offset(1)\n",
    "validation_generator = aus.DataGenerator(validation_parameters)\n",
    "validation_loader = torch.utils.data.DataLoader(AudioDataSet(validation_parameters), **data_loader_params)\n",
    "\n",
    "\n"
   ]
  },
  {
   "cell_type": "markdown",
   "metadata": {},
   "source": [
    "## Neural Network"
   ]
  },
  {
   "cell_type": "code",
   "execution_count": 894,
   "metadata": {},
   "outputs": [],
   "source": [
    "conv_depth = 2\n",
    "channels = [8, 8]\n",
    "kernel_size = [5, 5]\n",
    "stride = [1 for _ in range(conv_depth)]\n",
    "padding = [int((kernel_size - 1)/2) for kernel_size in kernel_size]\n",
    "pooling = [1 for _ in range(conv_depth)]\n",
    "\n"
   ]
  },
  {
   "cell_type": "code",
   "execution_count": 895,
   "metadata": {},
   "outputs": [
    {
     "name": "stdout",
     "output_type": "stream",
     "text": [
      "2048\n"
     ]
    }
   ],
   "source": [
    "assert len(channels) == conv_depth\n",
    "assert len(kernel_size) == conv_depth\n",
    "assert len(stride) == conv_depth\n",
    "assert len(padding) == conv_depth\n",
    "\n",
    "conv_size = []\n",
    "input_size = SAMPLE_LENGTH\n",
    "for i in range(conv_depth):\n",
    "    conv_dim_reduction = kernel_size[i]-1-padding[i]*2\n",
    "    conv_size.append(int((input_size - conv_dim_reduction)/stride[i]/pooling[i]))\n",
    "    input_size = conv_size[i]\n",
    "\n",
    "conv_output_size = conv_size[-1]*channels[-1]\n",
    "\n",
    "print(conv_output_size)"
   ]
  },
  {
   "cell_type": "code",
   "execution_count": 896,
   "metadata": {},
   "outputs": [
    {
     "name": "stdout",
     "output_type": "stream",
     "text": [
      "Net(\n",
      "  (convs): ModuleList(\n",
      "    (0): Conv1d(1, 8, kernel_size=(5,), stride=(1,), padding=(2,))\n",
      "    (1): Conv1d(8, 8, kernel_size=(5,), stride=(1,), padding=(2,))\n",
      "  )\n",
      "  (lin_out): Linear(in_features=2048, out_features=1, bias=True)\n",
      ")\n"
     ]
    }
   ],
   "source": [
    "class Net(nn.Module):\n",
    "    def __init__(self):\n",
    "        super(Net, self).__init__()\n",
    "        \n",
    "        self.convs = nn.ModuleList()\n",
    "        in_channels = 1\n",
    "        for i in range(conv_depth):\n",
    "            conv = nn.Conv1d(in_channels=in_channels, out_channels=channels[i], kernel_size=kernel_size[i], stride=stride[i], padding=padding[i])\n",
    "            in_channels = channels[i]\n",
    "            self.convs.append(conv)\n",
    "        \n",
    "        self.lin_out = nn.Linear(in_features=conv_output_size, out_features=1)\n",
    "        \n",
    "        \n",
    "    def forward(self, x):\n",
    "        x = x.unsqueeze(1)\n",
    "\n",
    "        for conv in self.convs:\n",
    "            x = conv(x)\n",
    "            x = nn_func.relu(x)\n",
    "\n",
    "        x = x.flatten(1)\n",
    "        result = self.lin_out(x).unsqueeze(1)\n",
    "        return result\n",
    "\n",
    "net = Net()\n",
    "if use_cuda:\n",
    "    net.cuda()\n",
    "print(net)"
   ]
  },
  {
   "cell_type": "markdown",
   "metadata": {},
   "source": [
    "## Training"
   ]
  },
  {
   "cell_type": "code",
   "execution_count": 897,
   "metadata": {},
   "outputs": [],
   "source": [
    "LEARNING_RATE = 1e-3\n",
    "WEIGHT_DECAY = 1e-5"
   ]
  },
  {
   "cell_type": "code",
   "execution_count": 898,
   "metadata": {},
   "outputs": [],
   "source": [
    "criterion = nn.MSELoss()  \n",
    "\n",
    "# weight_decay is equal to L2 regularization\n",
    "optimizer = optim.AdamW(net.parameters(), lr=LEARNING_RATE, weight_decay=WEIGHT_DECAY) \n"
   ]
  },
  {
   "cell_type": "code",
   "execution_count": 899,
   "metadata": {},
   "outputs": [],
   "source": [
    "def to_torch(x):\n",
    "    variable = Variable(torch.from_numpy(x))\n",
    "    if use_cuda:\n",
    "        variable = variable.cuda()\n",
    "    return variable\n",
    "\n",
    "def test_net(net, validation_loader, criterion):\n",
    "    was_training = net.training\n",
    "    net.eval()\n",
    "    num_iterations = 100\n",
    "    total_loss = 0\n",
    "    for data_point, frequency in itertools.islice(validation_loader, num_iterations):\n",
    "        data_point = data_point.to(device)\n",
    "        frequency = frequency.to(device)\n",
    "        output = net(data_point)\n",
    "        total_loss += criterion(output, frequency)\n",
    "    net.train(mode=was_training)\n",
    "    return total_loss/num_iterations\n",
    "\n",
    "def manual_test(net, validation_generator):\n",
    "    was_training = net.training\n",
    "    net.eval()\n",
    "    num_iterations = 5\n",
    "    for data_point in validation_generator.next_n(num_iterations):\n",
    "        samples = to_torch(data_point.get_samples()).unsqueeze(0)\n",
    "        freq_map = to_torch(np.array([data_point.get_frequency_map()])).unsqueeze(0)\n",
    "        output = net(samples)\n",
    "        print(\"Frequency: \", parameters.map_to_frequency(freq_map.item()), \" Output: \", parameters.map_to_frequency(output.item()))\n",
    "    net.train(mode=was_training)\n",
    "\n"
   ]
  },
  {
   "cell_type": "code",
   "execution_count": 900,
   "metadata": {},
   "outputs": [
    {
     "name": "stdout",
     "output_type": "stream",
     "text": [
      "Frequency:  21.806589126586914  Output:  580.6998291015625\n",
      "Frequency:  7476.90869140625  Output:  415.2980651855469\n",
      "Frequency:  50.53485107421875  Output:  584.01318359375\n",
      "Frequency:  10745.4326171875  Output:  593.9097290039062\n",
      "Frequency:  18996.27734375  Output:  428.7369079589844\n",
      "Loss at iteration 0: 0.34553542733192444\n",
      "Loss at iteration 200: 0.005130981560796499\n",
      "Loss at iteration 400: 0.0028716498054564\n",
      "Loss at iteration 600: 0.0018242570804432034\n",
      "Loss at iteration 800: 0.001974422251805663\n",
      "Loss at iteration 1000: 0.0011648256331682205\n",
      "Loss at iteration 1200: 0.0007377301226370037\n",
      "Loss at iteration 1400: 0.0008496105438098311\n",
      "Loss at iteration 1600: 0.0006910804659128189\n",
      "Loss at iteration 1800: 0.0007181748514994979\n",
      "Loss at iteration 2000: 0.0007483682129532099\n",
      "Frequency:  260.94561767578125  Output:  274.1214294433594\n",
      "Frequency:  15659.8359375  Output:  13606.0205078125\n",
      "Frequency:  5092.42333984375  Output:  4870.1962890625\n",
      "Frequency:  193.81607055664062  Output:  167.28245544433594\n",
      "Frequency:  387.67041015625  Output:  363.3110656738281\n"
     ]
    }
   ],
   "source": [
    "NUM_BATCHES = 2000\n",
    "EVAL_EVERY = 200\n",
    "\n",
    "\n",
    "manual_test(net, validation_generator)\n",
    "\n",
    "net.train()\n",
    "\n",
    "for i, (data_point, frequency) in enumerate(itertools.islice(training_loader, NUM_BATCHES)):\n",
    "    if i%EVAL_EVERY == 0:\n",
    "        print(f\"Loss at iteration {i}: {test_net(net, validation_loader, criterion)}\")\n",
    "    data_point = data_point.to(device)\n",
    "    frequency = frequency.to(device)\n",
    "    output = net(data_point)\n",
    "    loss = criterion(output, frequency)\n",
    "\n",
    "    optimizer.zero_grad()\n",
    "    loss.backward()\n",
    "    optimizer.step()\n",
    "\n",
    "print(f\"Loss at iteration {NUM_BATCHES}: {test_net(net, validation_loader, criterion)}\")\n",
    "manual_test(net, validation_generator)\n",
    "    "
   ]
  }
 ],
 "metadata": {
  "kernelspec": {
   "display_name": "Python 3 (ipykernel)",
   "language": "python",
   "name": "python3"
  },
  "language_info": {
   "codemirror_mode": {
    "name": "ipython",
    "version": 3
   },
   "file_extension": ".py",
   "mimetype": "text/x-python",
   "name": "python",
   "nbconvert_exporter": "python",
   "pygments_lexer": "ipython3",
   "version": "3.8.10"
  },
  "orig_nbformat": 4
 },
 "nbformat": 4,
 "nbformat_minor": 2
}
