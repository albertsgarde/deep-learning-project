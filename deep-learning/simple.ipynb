{
 "cells": [
  {
   "cell_type": "markdown",
   "metadata": {},
   "source": [
    "## Setup\n",
    "### Project setup"
   ]
  },
  {
   "cell_type": "code",
   "execution_count": 91,
   "metadata": {},
   "outputs": [],
   "source": [
    "if run_init:\n",
    "    %pip install -U pip\n",
    "    !if  [ ! -d \"deep-learning-project\" ] ; then git clone https://github.com/albertsgarde/deep-learning-project.git; fi\n",
    "    !cd deep-learning-project && git reset --hard && git pull\n",
    "    !source deep-learning-project/setup.sh deep-learning-project\n",
    "run_init = False"
   ]
  },
  {
   "cell_type": "code",
   "execution_count": 92,
   "metadata": {},
   "outputs": [],
   "source": [
    "run_init = True"
   ]
  },
  {
   "cell_type": "code",
   "execution_count": 93,
   "metadata": {},
   "outputs": [],
   "source": [
    "run_init = False"
   ]
  },
  {
   "cell_type": "markdown",
   "metadata": {},
   "source": [
    "### Imports"
   ]
  },
  {
   "cell_type": "code",
   "execution_count": 94,
   "metadata": {},
   "outputs": [],
   "source": [
    "import numpy as np\n",
    "import itertools\n",
    "import torch\n",
    "import torch.nn as nn\n",
    "import torch.nn.functional as nn_func\n",
    "import torch.optim as optim\n",
    "from torch.autograd import Variable\n",
    "\n",
    "import audio_samples_py as aus"
   ]
  },
  {
   "cell_type": "markdown",
   "metadata": {},
   "source": [
    "### Device setup"
   ]
  },
  {
   "cell_type": "code",
   "execution_count": 95,
   "metadata": {},
   "outputs": [
    {
     "name": "stdout",
     "output_type": "stream",
     "text": [
      "Running GPU.\n"
     ]
    }
   ],
   "source": [
    "use_cuda = torch.cuda.is_available()\n",
    "device = torch.device(\"cuda\" if use_cuda else \"cpu\")\n",
    "print(\"Running GPU.\") if use_cuda else print(\"No GPU available.\")"
   ]
  },
  {
   "cell_type": "markdown",
   "metadata": {},
   "source": [
    "## Data\n",
    "### Parameters"
   ]
  },
  {
   "cell_type": "code",
   "execution_count": 96,
   "metadata": {},
   "outputs": [],
   "source": [
    "SAMPLE_LENGTH = 256"
   ]
  },
  {
   "cell_type": "markdown",
   "metadata": {},
   "source": [
    "### Generation"
   ]
  },
  {
   "cell_type": "code",
   "execution_count": 97,
   "metadata": {},
   "outputs": [],
   "source": [
    "import warnings\n",
    "\n",
    "class AudioDataSet(torch.utils.data.Dataset):\n",
    "    def __init__(self, parameters: aus.DataParameters):\n",
    "         self.parameters = parameters\n",
    "\n",
    "    def __len__(self):\n",
    "        return np.iinfo(np.int64).max\n",
    "    \n",
    "    def __getitem__(self, index):\n",
    "        data_point = self.parameters.generate_at_index(index)\n",
    "        return data_point.get_samples(), torch.tensor([data_point.get_frequency_map()])\n",
    "\n"
   ]
  },
  {
   "cell_type": "code",
   "execution_count": 98,
   "metadata": {},
   "outputs": [],
   "source": [
    "\n",
    "data_loader_params = {\"batch_size\": 1}\n",
    "\n",
    "parameters = aus.DataParameters(num_samples=SAMPLE_LENGTH).add_sine((0.5,0.75))\n",
    "training_parameters = parameters.with_seed_offset(0)\n",
    "training_generator = aus.DataGenerator(training_parameters)\n",
    "training_loader = torch.utils.data.DataLoader(AudioDataSet(training_parameters), **data_loader_params)\n",
    "validation_parameters = parameters.with_seed_offset(1)\n",
    "validation_generator = aus.DataGenerator(validation_parameters)\n",
    "validation_loader = torch.utils.data.DataLoader(AudioDataSet(validation_parameters), **data_loader_params)\n",
    "\n",
    "\n"
   ]
  },
  {
   "cell_type": "markdown",
   "metadata": {},
   "source": [
    "## Neural Network"
   ]
  },
  {
   "cell_type": "code",
   "execution_count": 99,
   "metadata": {},
   "outputs": [],
   "source": [
    "class Net(nn.Module):\n",
    "    def __init__(self):\n",
    "        super(Net, self).__init__()\n",
    "\n",
    "        self.conv = nn.Conv1d(in_channels=1, out_channels=1, kernel_size=5, stride=1, padding=2)\n",
    "        self.lin_out = nn.Linear(in_features=SAMPLE_LENGTH, out_features=1)\n",
    "        \n",
    "        \n",
    "    def forward(self, x):\n",
    "        x = x.unsqueeze(0)\n",
    "        x = self.conv(x)\n",
    "        x = x.flatten()\n",
    "        x = nn_func.relu(x)\n",
    "    \n",
    "        return self.lin_out(x).unsqueeze(1)\n",
    "\n",
    "net = Net()\n",
    "if use_cuda:\n",
    "    net.cuda()"
   ]
  },
  {
   "cell_type": "markdown",
   "metadata": {},
   "source": [
    "## Training"
   ]
  },
  {
   "cell_type": "code",
   "execution_count": 100,
   "metadata": {},
   "outputs": [],
   "source": [
    "LEARNING_RATE = 1e-3\n",
    "WEIGHT_DECAY = 1e-5"
   ]
  },
  {
   "cell_type": "code",
   "execution_count": 101,
   "metadata": {},
   "outputs": [],
   "source": [
    "criterion = nn.MSELoss()  \n",
    "\n",
    "# weight_decay is equal to L2 regularization\n",
    "optimizer = optim.AdamW(net.parameters(), lr=LEARNING_RATE, weight_decay=WEIGHT_DECAY) \n"
   ]
  },
  {
   "cell_type": "code",
   "execution_count": 102,
   "metadata": {},
   "outputs": [],
   "source": [
    "def to_torch(x):\n",
    "    variable = Variable(torch.from_numpy(x))\n",
    "    if use_cuda:\n",
    "        variable = variable.cuda()\n",
    "    return variable\n",
    "\n",
    "def test_net(net, validation_loader, criterion):\n",
    "    was_training = net.training\n",
    "    net.eval()\n",
    "    num_iterations = 100\n",
    "    total_loss = 0\n",
    "    for data_point, frequency in itertools.islice(validation_loader, num_iterations):\n",
    "        data_point = data_point.to(device)\n",
    "        frequency = frequency.to(device)\n",
    "        output = net(data_point)\n",
    "        total_loss += criterion(output, frequency)\n",
    "    net.train(mode=was_training)\n",
    "    return total_loss/num_iterations\n",
    "\n",
    "def manual_test(net, validation_generator):\n",
    "    was_training = net.training\n",
    "    net.eval()\n",
    "    num_iterations = 5\n",
    "    for data_point in validation_generator.next_n(num_iterations):\n",
    "        samples = to_torch(data_point.get_samples())\n",
    "        freq_map = to_torch(np.array([data_point.get_frequency_map()]))\n",
    "        output = net(samples)\n",
    "        print(\"Frequency: \", parameters.map_to_frequency(freq_map.item()), \" Output: \", parameters.map_to_frequency(output.item()))\n",
    "    net.train(mode=was_training)\n",
    "\n"
   ]
  },
  {
   "cell_type": "code",
   "execution_count": 103,
   "metadata": {},
   "outputs": [
    {
     "name": "stdout",
     "output_type": "stream",
     "text": [
      "Frequency:  21.806589126586914  Output:  666.97705078125\n",
      "Frequency:  7476.90869140625  Output:  666.97705078125\n",
      "Frequency:  50.53485107421875  Output:  666.97705078125\n",
      "Frequency:  10745.4326171875  Output:  666.97705078125\n",
      "Frequency:  18996.27734375  Output:  776.4674072265625\n",
      "Loss at iteration 0: 0.34472009539604187\n",
      "Loss at iteration 1000: 0.09355480223894119\n",
      "Loss at iteration 2000: 0.04979756101965904\n",
      "Loss at iteration 3000: 0.0254303477704525\n",
      "Loss at iteration 4000: 0.02380792237818241\n",
      "Loss at iteration 5000: 0.025056447833776474\n",
      "Loss at iteration 6000: 0.020336538553237915\n",
      "Loss at iteration 7000: 0.021875951439142227\n",
      "Loss at iteration 8000: 0.01827203668653965\n",
      "Loss at iteration 9000: 0.023712018504738808\n",
      "Loss at iteration 10000: 0.01931377500295639\n",
      "Frequency:  260.94561767578125  Output:  273.6207275390625\n",
      "Frequency:  15659.8359375  Output:  9962.0595703125\n",
      "Frequency:  5092.42333984375  Output:  16707.51171875\n",
      "Frequency:  193.81607055664062  Output:  225.78265380859375\n",
      "Frequency:  387.67041015625  Output:  356.286865234375\n"
     ]
    }
   ],
   "source": [
    "NUM_BATCHES = 10000\n",
    "EVAL_EVERY = 1000\n",
    "\n",
    "\n",
    "manual_test(net, validation_generator)\n",
    "\n",
    "net.train()\n",
    "\n",
    "for i, (data_point, frequency) in enumerate(itertools.islice(training_loader, NUM_BATCHES)):\n",
    "    if i%EVAL_EVERY == 0:\n",
    "        print(f\"Loss at iteration {i}: {test_net(net, validation_loader, criterion)}\")\n",
    "    data_point = data_point.to(device)\n",
    "    frequency = frequency.to(device)\n",
    "\n",
    "    output = net(data_point)\n",
    "    loss = criterion(output, frequency)\n",
    "\n",
    "    optimizer.zero_grad()\n",
    "    loss.backward()\n",
    "    optimizer.step()\n",
    "\n",
    "print(f\"Loss at iteration {NUM_BATCHES}: {test_net(net, validation_loader, criterion)}\")\n",
    "manual_test(net, validation_generator)\n",
    "    "
   ]
  }
 ],
 "metadata": {
  "kernelspec": {
   "display_name": "Python 3 (ipykernel)",
   "language": "python",
   "name": "python3"
  },
  "language_info": {
   "codemirror_mode": {
    "name": "ipython",
    "version": 3
   },
   "file_extension": ".py",
   "mimetype": "text/x-python",
   "name": "python",
   "nbconvert_exporter": "python",
   "pygments_lexer": "ipython3",
   "version": "3.8.10"
  },
  "orig_nbformat": 4
 },
 "nbformat": 4,
 "nbformat_minor": 2
}
