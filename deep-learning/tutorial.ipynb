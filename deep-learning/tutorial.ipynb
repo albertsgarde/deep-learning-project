{
 "cells": [
  {
   "cell_type": "markdown",
   "metadata": {},
   "source": [
    "# Setup"
   ]
  },
  {
   "cell_type": "code",
   "execution_count": null,
   "metadata": {
    "vscode": {
     "languageId": "python"
    }
   },
   "outputs": [],
   "source": [
    "if run_init:\n",
    "    %pip install -U pip\n",
    "    !if  [ ! -d \"deep-learning-project\" ] ; then git clone https://github.com/albertsgarde/deep-learning-project.git; fi\n",
    "    !cd deep-learning-project && git reset --hard && git pull\n",
    "    !source deep-learning-project/setup.sh deep-learning-project\n",
    "run_init = False"
   ]
  },
  {
   "cell_type": "code",
   "execution_count": null,
   "metadata": {
    "vscode": {
     "languageId": "python"
    }
   },
   "outputs": [],
   "source": [
    "run_init = True"
   ]
  },
  {
   "cell_type": "code",
   "execution_count": null,
   "metadata": {
    "vscode": {
     "languageId": "python"
    }
   },
   "outputs": [],
   "source": [
    "run_init = False"
   ]
  },
  {
   "cell_type": "code",
   "execution_count": null,
   "metadata": {
    "vscode": {
     "languageId": "python"
    }
   },
   "outputs": [],
   "source": [
    "import os\n",
    "\n",
    "import audio_samples_py as aus"
   ]
  },
  {
   "cell_type": "markdown",
   "metadata": {},
   "source": [
    "# Real world data"
   ]
  },
  {
   "cell_type": "code",
   "execution_count": null,
   "metadata": {
    "vscode": {
     "languageId": "python"
    }
   },
   "outputs": [],
   "source": [
    "data_path = \"./deep-learning-project/deep-learning/data\"\n",
    "\n",
    "# Load .wav files into Audio objects.\n",
    "example_long = aus.load_wav(data_path + \"/example_cello_long.wav\")\n",
    "example_short = aus.load_wav(data_path + \"/example_cello_short.wav\")\n",
    "example_very_short = aus.load_wav(data_path + \"/example_cello_very_short.wav\")"
   ]
  },
  {
   "cell_type": "code",
   "execution_count": null,
   "metadata": {
    "vscode": {
     "languageId": "python"
    }
   },
   "outputs": [],
   "source": [
    "print(f\"Number of samples: {len(example_long.samples())}\")\n",
    "# Plot the audio.\n",
    "aus.plot_audio(example_long)\n",
    "# Create a player for the audio.\n",
    "aus.play_audio(example_long)"
   ]
  },
  {
   "cell_type": "code",
   "execution_count": null,
   "metadata": {
    "vscode": {
     "languageId": "python"
    }
   },
   "outputs": [],
   "source": [
    "print(f\"Number of samples: {len(example_short.samples())}\")\n",
    "aus.plot_audio(example_short)\n",
    "aus.play_audio(example_short)"
   ]
  },
  {
   "cell_type": "code",
   "execution_count": null,
   "metadata": {
    "vscode": {
     "languageId": "python"
    }
   },
   "outputs": [],
   "source": [
    "print(f\"Number of samples: {len(example_very_short.samples())}\")\n",
    "aus.plot_audio(example_very_short)\n",
    "aus.play_audio(example_very_short)"
   ]
  },
  {
   "cell_type": "code",
   "execution_count": null,
   "metadata": {
    "vscode": {
     "languageId": "python"
    }
   },
   "outputs": [],
   "source": [
    "aus.plot_fft(example_very_short)"
   ]
  },
  {
   "cell_type": "markdown",
   "metadata": {},
   "source": [
    "# Synthesized data"
   ]
  },
  {
   "cell_type": "code",
   "execution_count": null,
   "metadata": {
    "vscode": {
     "languageId": "python"
    }
   },
   "outputs": [],
   "source": [
    "# Create a DataParameters object.\n",
    "data_parameters = aus.DataParameters(256, min_frequency=220, max_frequency=440)\n",
    "# The first parameter is the number of samples in each data point.\n",
    "\n",
    "# Generate a data point based on these parameters.\n",
    "data_point = data_parameters.generate_at_index(0)\n",
    "\n",
    "# Print the number of samples in the data_point.\n",
    "print(len(data_point.samples()))"
   ]
  },
  {
   "cell_type": "code",
   "execution_count": null,
   "metadata": {
    "vscode": {
     "languageId": "python"
    }
   },
   "outputs": [],
   "source": [
    "# Great! This is what we asked for.\n",
    "# Let's see how it looks and sounds!\n",
    "aus.plot_data_point(data_point)\n",
    "aus.play_data_point(data_point)"
   ]
  },
  {
   "cell_type": "code",
   "execution_count": null,
   "metadata": {
    "vscode": {
     "languageId": "python"
    }
   },
   "outputs": [],
   "source": [
    "# Oh no! This isn't useful at all!\n",
    "# What we're missing is an oscillator.\n",
    "data_parameters = data_parameters.add_sine((0.4, 0.8))\n",
    "# The above adds a sine oscillator with a random amplitude between 0.4 and 0.8."
   ]
  },
  {
   "cell_type": "code",
   "execution_count": null,
   "metadata": {
    "vscode": {
     "languageId": "python"
    }
   },
   "outputs": [],
   "source": [
    "# Generate a data point based on these parameters.\n",
    "data_point = data_parameters.generate_at_index(0)\n",
    "\n",
    "# Print the number of samples in the data_point.\n",
    "print(len(data_point.samples()))\n",
    "\n",
    "# Let's try to plot and play again.\n",
    "aus.plot_data_point(data_point)\n",
    "aus.play_data_point(data_point)"
   ]
  },
  {
   "cell_type": "markdown",
   "metadata": {},
   "source": [
    "## Waveforms"
   ]
  },
  {
   "cell_type": "code",
   "execution_count": null,
   "metadata": {
    "vscode": {
     "languageId": "python"
    }
   },
   "outputs": [],
   "source": [
    "# That's better!\n",
    "# Try running the previous code block again with different index arguments to generate_at_index\n",
    "\n",
    "# We used a sine oscillator, but there are many others:\n",
    "index = 1\n",
    "num_samples = 512\n",
    "min_frequency = 220\n",
    "max_frequency = 440"
   ]
  },
  {
   "cell_type": "code",
   "execution_count": null,
   "metadata": {
    "vscode": {
     "languageId": "python"
    }
   },
   "outputs": [],
   "source": [
    "sine_data_parameters = aus.DataParameters(num_samples, min_frequency=min_frequency, max_frequency=max_frequency).add_sine((0.4, 0.8))\n",
    "data_point = data_parameters.generate_at_index(index)\n",
    "print(\"Sine wave\")\n",
    "aus.plot_data_point(data_point)\n",
    "aus.play_data_point(data_point)\n",
    "\n",
    "\n",
    "saw_data_parameters = aus.DataParameters(num_samples, min_frequency=min_frequency, max_frequency=max_frequency).add_saw((0.4, 0.8))\n",
    "data_point = data_parameters.generate_at_index(index)\n",
    "print(\"Saw wave\")\n",
    "aus.plot_data_point(data_point)\n",
    "aus.play_data_point(data_point)\n",
    "\n",
    "\n",
    "pulse_data_parameters = aus.DataParameters(num_samples, min_frequency=min_frequency, max_frequency=max_frequency).add_pulse((0.4, 0.8), (0.1, 0.9))\n",
    "data_point = data_parameters.generate_at_index(index)\n",
    "print(\"Pulse wave\")\n",
    "aus.plot_data_point(data_point)\n",
    "aus.play_data_point(data_point)\n",
    "\n",
    "\n",
    "triangle_data_parameters = aus.DataParameters(num_samples, min_frequency=min_frequency, max_frequency=max_frequency).add_triangle((0.4, 0.8))\n",
    "data_point = data_parameters.generate_at_index(index)\n",
    "print(\"Triangle wave\")\n",
    "aus.plot_data_point(data_point)\n",
    "aus.play_data_point(data_point)\n",
    "\n",
    "\n",
    "noise_parameters = aus.DataParameters(num_samples, min_frequency=min_frequency, max_frequency=max_frequency).add_noise((0.4, 0.8))\n",
    "data_point = data_parameters.generate_at_index(index)\n",
    "print(\"Noise\")\n",
    "aus.plot_data_point(data_point)\n",
    "aus.play_data_point(data_point)"
   ]
  },
  {
   "cell_type": "markdown",
   "metadata": {},
   "source": [
    "## Effects"
   ]
  },
  {
   "cell_type": "code",
   "execution_count": null,
   "metadata": {
    "vscode": {
     "languageId": "python"
    }
   },
   "outputs": [],
   "source": [
    "# Let's try to add effects to make it even more difficult for our model.\n",
    "sine_data_parameters = sine_data_parameters.apply_distortion((0.1, 0.9))"
   ]
  }
 ],
 "metadata": {
  "kernelspec": {
   "display_name": "Python 3 (ipykernel)",
   "language": "python",
   "name": "python3"
  },
  "orig_nbformat": 4
 },
 "nbformat": 4,
 "nbformat_minor": 2
}
