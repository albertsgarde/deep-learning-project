{
  "cells": [
    {
      "cell_type": "markdown",
      "metadata": {
        "id": "1eWpZtpUQf36"
      },
      "source": [
        "# Setup"
      ]
    },
    {
      "cell_type": "code",
      "execution_count": 11,
      "metadata": {
        "id": "mvYAT4zJQf39"
      },
      "outputs": [
        {
          "name": "stdout",
          "output_type": "stream",
          "text": [
            "Requirement already satisfied: pip in /usr/local/lib/python3.8/dist-packages (22.3.1)\n",
            "\u001b[33mWARNING: Running pip as the 'root' user can result in broken permissions and conflicting behaviour with the system package manager. It is recommended to use a virtual environment instead: https://pip.pypa.io/warnings/venv\u001b[0m\u001b[33m\n",
            "\u001b[0mNote: you may need to restart the kernel to use updated packages.\n",
            "Cloning into 'deep-learning-project'...\n",
            "remote: Enumerating objects: 3700, done.\u001b[K\n",
            "remote: Counting objects: 100% (2344/2344), done.\u001b[K\n",
            "remote: Compressing objects: 100% (2327/2327), done.\u001b[K\n",
            "remote: Total 3700 (delta 30), reused 2319 (delta 15), pack-reused 1356\u001b[K\n",
            "Receiving objects: 100% (3700/3700), 8.25 MiB | 1.39 MiB/s, done.\n",
            "Resolving deltas: 100% (464/464), done.\n",
            "HEAD is now at 9e2d36a Merge pull request #25 from albertsgarde/data-labels-without-frequency\n",
            "Already up to date.\n",
            "Branch 'fix-rw-bug' set up to track remote branch 'fix-rw-bug' from 'origin'.\n",
            "Switched to a new branch 'fix-rw-bug'\n",
            "Already up to date.\n",
            "Installing necessary linux packages...\n",
            "Installed necessary linux packages.\n",
            "Installing necessary python packages...\n",
            "Installed necessary python packages.\n",
            "Installing Rust...\n",
            "Installed Rust.\n",
            "Installing maturin...\n",
            "Installed Maturin.\n",
            "Building audio_samples_py...\n",
            "Built audio_samples_py.\n",
            "Installing audio_samples_py...\n",
            "Installed audio_samples_py.\n"
          ]
        }
      ],
      "source": [
        "if run_init:\n",
        "    %pip install -U pip\n",
        "    !if  [ ! -d \"deep-learning-project\" ] ; then git clone https://github.com/albertsgarde/deep-learning-project.git; fi\n",
        "    !cd deep-learning-project && git reset --hard && git pull\n",
        "    !source deep-learning-project/setup.sh deep-learning-project\n",
        "    import os\n",
        "    os.chdir(\"deep-learning-project/deep-learning\")\n",
        "run_init = False"
      ]
    },
    {
      "cell_type": "code",
      "execution_count": 10,
      "metadata": {
        "id": "jaxRolqHQf3-"
      },
      "outputs": [],
      "source": [
        "run_init = True"
      ]
    },
    {
      "cell_type": "code",
      "execution_count": null,
      "metadata": {
        "id": "QPo0CHjGQf3_"
      },
      "outputs": [],
      "source": [
        "run_init = False"
      ]
    },
    {
      "cell_type": "code",
      "execution_count": 17,
      "metadata": {
        "id": "3kVtr3EUQf3_"
      },
      "outputs": [
        {
          "name": "stdout",
          "output_type": "stream",
          "text": [
            "/app/deep-learning-project/deep-learning/deep-learning-project/deep-learning\n",
            "['data', 'simple.ipynb', 'utils.py', 'README.md', 'rw_test.ipynb', 'chord_test.ipynb', 'tutorial.ipynb', 'predict_note.ipynb']\n",
            "['example_cello_very_short.wav', 'sampled_strings', 'example_cello_long.wav', 'synth_data_chords', 'example_cello_short.wav', 'synth_data']\n",
            "None\n"
          ]
        }
      ],
      "source": [
        "import os\n",
        "\n",
        "import audio_samples_py as aus\n",
        "\n",
        "print(os.getcwd())\n",
        "print(os.listdir())\n",
        "print(os.listdir(\"data\"))\n",
        "print(os.listdir(\"data/synth_data_chords\"))"
      ]
    },
    {
      "cell_type": "markdown",
      "metadata": {
        "id": "beQtwPY2Qf4A"
      },
      "source": [
        "# Real world data"
      ]
    },
    {
      "cell_type": "code",
      "execution_count": null,
      "metadata": {
        "id": "NtsuvbyQQf4A"
      },
      "outputs": [],
      "source": [
        "data_path = \"data\"\n",
        "\n",
        "# Load .wav files into Audio objects.\n",
        "example_long = aus.load_wav(data_path + \"/example_cello_long.wav\")\n",
        "example_short = aus.load_wav(data_path + \"/example_cello_short.wav\")\n",
        "example_very_short = aus.load_wav(data_path + \"/example_cello_very_short.wav\")"
      ]
    },
    {
      "cell_type": "code",
      "execution_count": null,
      "metadata": {
        "id": "FpcTdjyYQf4A"
      },
      "outputs": [],
      "source": [
        "print(f\"Number of samples: {len(example_long.samples())}\")\n",
        "# Plot the audio.\n",
        "aus.plot_audio(example_long)\n",
        "# Create a player for the audio.\n",
        "aus.play_audio(example_long)"
      ]
    },
    {
      "cell_type": "code",
      "execution_count": null,
      "metadata": {
        "id": "SEa_L1RGQf4B"
      },
      "outputs": [],
      "source": [
        "print(f\"Number of samples: {len(example_short.samples())}\")\n",
        "aus.plot_audio(example_short)\n",
        "aus.play_audio(example_short)"
      ]
    },
    {
      "cell_type": "code",
      "execution_count": null,
      "metadata": {
        "id": "gbeZ6q3QQf4C"
      },
      "outputs": [],
      "source": [
        "print(f\"Number of samples: {len(example_very_short.samples())}\")\n",
        "aus.plot_audio(example_very_short)\n",
        "aus.play_audio(example_very_short)"
      ]
    },
    {
      "cell_type": "code",
      "execution_count": null,
      "metadata": {
        "id": "cv_EEUlpQf4C"
      },
      "outputs": [],
      "source": [
        "# A Fourier transform finds the amplitude of each frequency in the signal.\n",
        "# For audio, relevant frequencies are generally between 20 and 20,000 Hz, as they are the frequencies that humans can hear.\n",
        "aus.plot_fft(example_very_short)"
      ]
    },
    {
      "cell_type": "markdown",
      "metadata": {
        "id": "CBa9M2JaQf4C"
      },
      "source": [
        "# Synthesized data"
      ]
    },
    {
      "cell_type": "code",
      "execution_count": null,
      "metadata": {
        "id": "HkbzxH1HQf4D"
      },
      "outputs": [],
      "source": [
        "# Create a DataParameters object.\n",
        "data_parameters = aus.DataParameters(44100, min_frequency=220, max_frequency=440, possible_chord_types=[6])\n",
        "# The first parameter is the number of samples in each data point.\n",
        "\n",
        "# Generate a data point based on these parameters.\n",
        "data_point = data_parameters.generate_at_index(0)\n",
        "\n",
        "# Print the number of samples in the data_point.\n",
        "print(len(data_point.samples()))"
      ]
    },
    {
      "cell_type": "code",
      "execution_count": null,
      "metadata": {
        "id": "nbZZjhZbQf4D"
      },
      "outputs": [],
      "source": [
        "# Great! This is what we asked for.\n",
        "# Let's see how it looks and sounds!\n",
        "aus.plot_data_point(data_point)\n",
        "aus.play_data_point(data_point)"
      ]
    },
    {
      "cell_type": "code",
      "execution_count": null,
      "metadata": {
        "id": "180v31FBQf4D"
      },
      "outputs": [],
      "source": [
        "# Oh no! This isn't useful at all!\n",
        "# What we're missing is an oscillator.\n",
        "data_parameters = data_parameters.add_sine((0.4, 0.8))\n",
        "# The above adds a sine oscillator with a random amplitude between 0.4 and 0.8."
      ]
    },
    {
      "cell_type": "code",
      "execution_count": null,
      "metadata": {
        "id": "ltvmjF63Qf4E"
      },
      "outputs": [],
      "source": [
        "# Generate a data point based on these parameters.\n",
        "data_point = data_parameters.generate_at_index(0)\n",
        "\n",
        "# Print the number of samples in the data_point.\n",
        "print(len(data_point.samples()))\n",
        "\n",
        "# Let's try to plot and play again.\n",
        "aus.plot_data_point(data_point)\n",
        "aus.play_data_point(data_point)"
      ]
    },
    {
      "cell_type": "markdown",
      "metadata": {
        "id": "ebf-JugcQf4E"
      },
      "source": [
        "## Waveforms"
      ]
    },
    {
      "cell_type": "code",
      "execution_count": null,
      "metadata": {
        "id": "6lj_GT1PQf4E"
      },
      "outputs": [],
      "source": [
        "# That's better!\n",
        "# Try running the previous code block again with different index arguments to generate_at_index\n",
        "\n",
        "# We used a sine oscillator, but there are many others:\n",
        "index = 1\n",
        "num_samples = 256\n",
        "min_frequency = 220\n",
        "max_frequency = 440"
      ]
    },
    {
      "cell_type": "code",
      "execution_count": null,
      "metadata": {
        "id": "TAinwVepQf4F"
      },
      "outputs": [],
      "source": [
        "sine_data_parameters = aus.DataParameters(num_samples, min_frequency=min_frequency, max_frequency=max_frequency).add_sine((0.4, 0.8))\n",
        "data_point = sine_data_parameters.generate_at_index(index)\n",
        "print(f\"Sine wave: {data_point.frequency()} Hz\")\n",
        "aus.plot_data_point(data_point)\n",
        "aus.play_data_point(data_point)\n",
        "\n",
        "\n",
        "saw_data_parameters = aus.DataParameters(num_samples, min_frequency=min_frequency, max_frequency=max_frequency).add_saw((0.4, 0.8))\n",
        "data_point = saw_data_parameters.generate_at_index(index)\n",
        "print(f\"Saw wave: {data_point.frequency()} Hz\")\n",
        "aus.plot_data_point(data_point)\n",
        "aus.play_data_point(data_point)\n",
        "\n",
        "\n",
        "pulse_data_parameters = aus.DataParameters(num_samples, min_frequency=min_frequency, max_frequency=max_frequency).add_pulse((0.4, 0.8), (0.1, 0.9))\n",
        "data_point = pulse_data_parameters.generate_at_index(index)\n",
        "print(f\"Pulse wave: {data_point.frequency()} Hz\")\n",
        "aus.plot_data_point(data_point)\n",
        "aus.play_data_point(data_point)\n",
        "\n",
        "\n",
        "triangle_data_parameters = aus.DataParameters(num_samples, min_frequency=min_frequency, max_frequency=max_frequency).add_triangle((0.4, 0.8))\n",
        "data_point = triangle_data_parameters.generate_at_index(index)\n",
        "print(f\"Triangle wave: {data_point.frequency()} Hz\")\n",
        "aus.plot_data_point(data_point)\n",
        "aus.play_data_point(data_point)\n",
        "\n",
        "\n",
        "noise_parameters = aus.DataParameters(num_samples, min_frequency=min_frequency, max_frequency=max_frequency).add_noise((0.4, 0.8))\n",
        "data_point = noise_parameters.generate_at_index(index)\n",
        "print(f\"Noise: {data_point.frequency()} Hz\")\n",
        "aus.plot_data_point(data_point)\n",
        "aus.play_data_point(data_point)"
      ]
    },
    {
      "cell_type": "code",
      "execution_count": null,
      "metadata": {},
      "outputs": [],
      "source": [
        "data_point = sine_data_parameters.generate_at_index(index)\n",
        "print(f\"Sine wave: {data_point.frequency()} Hz\")\n",
        "aus.plot_data_point_fft(data_point)\n",
        "\n",
        "data_point = saw_data_parameters.generate_at_index(index)\n",
        "print(f\"Saw wave: {data_point.frequency()} Hz\")\n",
        "aus.plot_data_point_fft(data_point)\n",
        "\n",
        "data_point = pulse_data_parameters.generate_at_index(index)\n",
        "print(f\"Pulse wave: {data_point.frequency()} Hz\")\n",
        "aus.plot_data_point_fft(data_point)\n",
        "\n",
        "data_point = triangle_data_parameters.generate_at_index(index)\n",
        "print(f\"Triangle wave: {data_point.frequency()} Hz\")\n",
        "aus.plot_data_point_fft(data_point)\n",
        "\n",
        "data_point = noise_parameters.generate_at_index(index)\n",
        "print(f\"Noise: {data_point.frequency()} Hz\")\n",
        "aus.plot_data_point_fft(data_point)"
      ]
    },
    {
      "cell_type": "markdown",
      "metadata": {
        "id": "9vC1LzO5Qf4F"
      },
      "source": [
        "## Effects"
      ]
    },
    {
      "cell_type": "code",
      "execution_count": null,
      "metadata": {
        "id": "3mLre6rhQf4F"
      },
      "outputs": [],
      "source": [
        "# Let's try to add effects to make it more difficult for our model.\n",
        "distorted_data_parameters = sine_data_parameters.apply_distortion((0.9, 0.9))\n",
        "sine_data_point = sine_data_parameters.generate_at_index(0)\n",
        "dist_data_point = distorted_data_parameters.generate_at_index(0)\n",
        "print(\"Sine wave\")\n",
        "aus.plot_data_point(sine_data_point)\n",
        "aus.play_data_point(sine_data_point)\n",
        "print(\"Distorted sine wave\")\n",
        "aus.plot_data_point(dist_data_point)\n",
        "aus.play_data_point(dist_data_point)\n",
        "print(\"Sine wave fft\")\n",
        "aus.plot_data_point_fft(sine_data_point)\n",
        "print(\"Distorted sine wave fft\")\n",
        "aus.plot_data_point_fft(dist_data_point)"
      ]
    },
    {
      "cell_type": "markdown",
      "metadata": {},
      "source": [
        "# Real World Data (again)"
      ]
    },
    {
      "cell_type": "code",
      "execution_count": 20,
      "metadata": {},
      "outputs": [
        {
          "name": "stdout",
          "output_type": "stream",
          "text": [
            "800\n",
            "200\n",
            "5\n",
            "4\n"
          ]
        }
      ],
      "source": [
        "data_path = \"data/synth_data_chords\"\n",
        "validation_ratio = 0.2\n",
        "training_data, validation_data = aus.load_data_set(data_path).random_partition(1-validation_ratio)\n",
        "print(len(training_data))\n",
        "print(len(validation_data))\n",
        "print(training_data[0].label().chord_type())\n",
        "print(training_data[1].label().chord_type())"
      ]
    }
  ],
  "metadata": {
    "colab": {
      "provenance": []
    },
    "kernelspec": {
      "display_name": "Python 3 (ipykernel)",
      "language": "python",
      "name": "python3"
    },
    "language_info": {
      "codemirror_mode": {
        "name": "ipython",
        "version": 3
      },
      "file_extension": ".py",
      "mimetype": "text/x-python",
      "name": "python",
      "nbconvert_exporter": "python",
      "pygments_lexer": "ipython3",
      "version": "3.8.10"
    },
    "orig_nbformat": 4
  },
  "nbformat": 4,
  "nbformat_minor": 0
}
