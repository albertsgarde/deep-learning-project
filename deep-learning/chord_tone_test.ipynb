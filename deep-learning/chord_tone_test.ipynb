{
  "cells": [
    {
      "cell_type": "markdown",
      "metadata": {
        "id": "EpCdm5MTVLke"
      },
      "source": [
        "## Setup\n",
        "### Project setup"
      ]
    },
    {
      "cell_type": "code",
      "execution_count": 111,
      "metadata": {
        "id": "JAJzLPaqVLkj"
      },
      "outputs": [],
      "source": [
        "if run_init:\n",
        "    %pip install -U pip\n",
        "    !if  [ ! -d \"deep-learning-project\" ] ; then git clone https://github.com/albertsgarde/deep-learning-project.git; fi\n",
        "    !cd deep-learning-project && git reset --hard && git pull\n",
        "    !source deep-learning-project/setup.sh deep-learning-project\n",
        "    import os\n",
        "    os.chdir(\"deep-learning-project/deep-learning\")\n",
        "run_init = False"
      ]
    },
    {
      "cell_type": "code",
      "execution_count": 112,
      "metadata": {
        "id": "qGYtl2AsVLkm"
      },
      "outputs": [],
      "source": [
        "run_init = True"
      ]
    },
    {
      "cell_type": "code",
      "execution_count": 113,
      "metadata": {
        "id": "0ixbGgM3VLkn"
      },
      "outputs": [],
      "source": [
        "run_init = False"
      ]
    },
    {
      "cell_type": "markdown",
      "metadata": {
        "id": "ByS9iXtkVLko"
      },
      "source": [
        "### Imports"
      ]
    },
    {
      "cell_type": "code",
      "execution_count": 114,
      "metadata": {
        "id": "7h_vOCYPVLkp"
      },
      "outputs": [],
      "source": [
        "import matplotlib.pyplot as plt\n",
        "\n",
        "import numpy as np\n",
        "import itertools\n",
        "import torch\n",
        "import torch.nn as nn\n",
        "import torch.nn.functional as nn_func\n",
        "import torch.optim as optim\n",
        "from torch.autograd import Variable\n",
        "from torch.utils.data.dataloader import DataLoader\n",
        "import IPython.display as display\n",
        "\n",
        "import audio_samples_py as aus\n",
        "\n",
        "import utils.plots as plots\n",
        "import utils.criterion as chord_criterion\n",
        "import utils.utils as utils"
      ]
    },
    {
      "cell_type": "markdown",
      "metadata": {
        "id": "Z74dCplZVLkq"
      },
      "source": [
        "### Device setup"
      ]
    },
    {
      "cell_type": "code",
      "execution_count": 115,
      "metadata": {
        "id": "4hg-wbljVLkr"
      },
      "outputs": [
        {
          "name": "stdout",
          "output_type": "stream",
          "text": [
            "Running GPU.\n"
          ]
        }
      ],
      "source": [
        "device, use_cuda = utils.setup_device(use_cuda_if_possible = True)"
      ]
    },
    {
      "cell_type": "markdown",
      "metadata": {
        "id": "OetAsjTMVLks"
      },
      "source": [
        "## Data\n",
        "### Parameters"
      ]
    },
    {
      "cell_type": "code",
      "execution_count": 116,
      "metadata": {
        "id": "X2BDxTBAVLku"
      },
      "outputs": [],
      "source": [
        "SAMPLE_LENGTH = 1024\n",
        "BATCH_SIZE = 64\n",
        "SEED = 1 # Generates different data if changed. Useful to ensure that a result isn't a fluke.\n",
        "\n",
        "osc_amp_range = (0.005, 0.02)\n",
        "osc_prob = 0.2\n",
        "\n",
        "possible_chord_types = [i for i in range(aus.num_chord_types())]\n",
        "octave_parameters = aus.OctaveParameters(add_root_octave_probability=0.5,\n",
        "        add_other_octave_probability=0.3)\n",
        "wave_forms = aus.WaveForms().load_dir_and_add(\"data/custom_oscillators/\")\n",
        "parameters = aus.DataParameters(num_samples=SAMPLE_LENGTH, octave_parameters=octave_parameters, wave_forms=wave_forms, min_frequency=50, max_frequency=2000, min_frequency_std_dev=0.5, max_frequency_std_dev=3., possible_chord_types=possible_chord_types) \\\n",
        "    .add_sine(probability=osc_prob, amplitude_range=osc_amp_range) \\\n",
        "    .add_saw(probability=osc_prob, amplitude_range=osc_amp_range) \\\n",
        "    .add_pulse(probability=osc_prob, amplitude_range=osc_amp_range, duty_cycle_range=(0.1, 0.9)) \\\n",
        "    .add_triangle(probability=osc_prob, amplitude_range=osc_amp_range) \\\n",
        "    .add_noise(probability=1, amplitude_range=(0.0001, 0.004)) \\\n",
        "    .apply_distortion(probability=osc_prob, power_range=(0.1, 20)) \\\n",
        "    .apply_normalization(probability=1)\n",
        "\n",
        "for osc_index in range(wave_forms.num_wave_forms()):\n",
        "    parameters = parameters.add_custom_oscillator(probability = 0.1, amplitude_range=osc_amp_range, oscillator_index=osc_index)"
      ]
    },
    {
      "cell_type": "markdown",
      "metadata": {},
      "source": [
        "## Data"
      ]
    },
    {
      "cell_type": "markdown",
      "metadata": {
        "id": "Rq5XoGNBVLkv"
      },
      "source": [
        "### Generation"
      ]
    },
    {
      "cell_type": "code",
      "execution_count": 117,
      "metadata": {
        "id": "ISgSLVdDVLkx"
      },
      "outputs": [],
      "source": [
        "def label_to_target(label: aus.DataPointLabel):\n",
        "    \n",
        "    target = np.zeros(aus.num_chord_types() + 12, dtype=np.float32)\n",
        "    target[label.chord_type()] = 1\n",
        "    target[aus.num_chord_types() + label.note()] = 1\n",
        "    return target\n",
        "\n",
        "training_parameters, training_loader, validation_parameters, validation_loader = utils.init_synth_data(parameters, label_to_target, SEED, BATCH_SIZE)"
      ]
    },
    {
      "cell_type": "markdown",
      "metadata": {
        "id": "r-TuEI2LVLk0"
      },
      "source": [
        "## Neural Network"
      ]
    },
    {
      "cell_type": "markdown",
      "metadata": {
        "id": "cnk9srl9_o6E"
      },
      "source": [
        "### Model definition."
      ]
    },
    {
      "cell_type": "code",
      "execution_count": 118,
      "metadata": {
        "id": "4O-SWu2s_o6E"
      },
      "outputs": [],
      "source": [
        "class ConvMod(nn.Module):\n",
        "    \"\"\"Convolutional module containing a list of convolutional layers with ReLU activation and optional batch normalization and dropout.\"\"\"\n",
        "    def __init__(self, name, input_size, depth, channels, kernel_sizes, strides, paddings, poolings, batchnorms, dropouts):\n",
        "        super(ConvMod, self).__init__()\n",
        "\n",
        "        # Ensure that all parameter lists are long enough.\n",
        "        assert len(channels) >= depth\n",
        "        assert len(kernel_sizes) >= depth\n",
        "        assert len(strides) >= depth\n",
        "        assert len(paddings) >= depth\n",
        "        assert len(poolings) >= depth\n",
        "        assert len(batchnorms) >= depth\n",
        "        assert len(dropouts) >= depth\n",
        "        for kernel_size in kernel_sizes:\n",
        "            assert kernel_size % 2 == 1, \"Only odd kernel sizes are supported.\"\n",
        "        for dropout in dropouts:\n",
        "            assert 0 <= dropout and dropout <= 1, \"Dropout must be between 0 and 1.\"\n",
        "\n",
        "        # Calculate the size of the output of each convolutional layer (for each channel).\n",
        "        conv_size = []\n",
        "        for i in range(depth):\n",
        "            conv_dim_reduction = kernel_sizes[i]-1-paddings[i]*2\n",
        "            assert (input_size - conv_dim_reduction) % (strides[i]*poolings[i]) == 0\n",
        "            conv_size.append(int((input_size - conv_dim_reduction)/strides[i]/poolings[i]))\n",
        "            input_size = conv_size[i]\n",
        "        for i in range(depth):\n",
        "            print(f\"{name} layer {i} output: size={conv_size[i]} channels={channels[i]}\")\n",
        "\n",
        "        # Calculate total size of the output of the convolutional layers.\n",
        "        self.output_size = conv_size[-1]*channels[-1]\n",
        "        \n",
        "        self.module_list = nn.ModuleList()\n",
        "        in_channels = 1\n",
        "        for i in range(depth):\n",
        "            conv = nn.Conv1d(in_channels=in_channels, out_channels=channels[i], kernel_size=kernel_sizes[i], stride=strides[i], padding=paddings[i])\n",
        "            in_channels = channels[i]\n",
        "            pool = nn.MaxPool1d(poolings[i])\n",
        "            batchnorm = nn.BatchNorm1d(channels[i]) if (batchnorms[i]) else nn.Identity()\n",
        "            dropout = nn.Dropout(p=dropouts[i])\n",
        "\n",
        "            self.module_list.append(nn.ModuleList([conv, pool, batchnorm, dropout]))\n",
        "    \n",
        "    def forward(self, x):\n",
        "        for layer in self.module_list:\n",
        "            conv = layer[0]\n",
        "            pool = layer[1]\n",
        "            batchnorm = layer[2]\n",
        "            dropout = layer[3]\n",
        "            x = conv(x)\n",
        "            x = pool(x)\n",
        "            x = nn_func.relu(x)\n",
        "            x = batchnorm(x)\n",
        "            x = dropout(x)\n",
        "        \n",
        "        return x\n",
        "    \n",
        "    def total_output_size(self):\n",
        "        \"\"\" Returns the size of the output of the convolutional layers. \"\"\"\n",
        "        return self.output_size\n",
        "\n",
        "class LinMod(nn.Module):\n",
        "    def __init__(self, name, in_features, depth, features, batchnorms, dropouts):\n",
        "        super(LinMod, self).__init__()\n",
        "\n",
        "        # Ensure that all parameter lists are long enough.\n",
        "        assert in_features > 0\n",
        "        assert depth > 0\n",
        "        assert len(features) >= depth\n",
        "        assert len(batchnorms) >= depth\n",
        "        assert len(dropouts) >= depth\n",
        "        for dropout in dropouts:\n",
        "            assert 0 <= dropout and dropout <= 1, \"Dropout must be between 0 and 1.\"\n",
        "        for i in range(depth):\n",
        "            print(f\"{name} layer {i} output: size={features[i]}\")\n",
        "\n",
        "        self.module_list = nn.ModuleList()\n",
        "        for i in range(depth):\n",
        "            lin = nn.Linear(in_features=in_features, out_features=features[i])\n",
        "            in_features = features[i]\n",
        "            batchnorm = nn.BatchNorm1d(features[i]) if (batchnorms[i]) else nn.Identity()\n",
        "            dropout = nn.Dropout(p=dropouts[i])\n",
        "\n",
        "            self.module_list.append(nn.ModuleList([lin, batchnorm, dropout]))\n",
        "        \n",
        "        self.out_features = in_features\n",
        "\n",
        "    def forward(self, x):\n",
        "        for layer in self.module_list:\n",
        "            lin = layer[0]\n",
        "            batchnorm = layer[1]\n",
        "            dropout = layer[2]\n",
        "            x = lin(x)\n",
        "            x = nn_func.relu(x)\n",
        "            x = batchnorm(x)\n",
        "            x = dropout(x)\n",
        "            \n",
        "        return x\n",
        "\n",
        "    def total_output_size(self):\n",
        "        return self.out_features\n",
        "\n",
        "\n",
        "class Net(nn.Module):\n",
        "    def __init__(self, signal_mod, fft_mod, lin_mod, num_chord_types):\n",
        "        super(Net, self).__init__()\n",
        "        \n",
        "        self.signal_mod = signal_mod\n",
        "\n",
        "        self.fft_mod = fft_mod\n",
        "        \n",
        "        self.lin = lin_mod\n",
        "\n",
        "        self.num_chord_types = num_chord_types\n",
        "\n",
        "        self.lin_out = nn.Linear(in_features=self.lin.total_output_size(), out_features=num_chord_types+12)\n",
        "        self.chord_type_softmax = nn.Softmax(dim=1)\n",
        "        self.chord_tone_softmax = nn.Softmax(dim=1)\n",
        "        \n",
        "        \n",
        "    def forward(self, signal, fft):\n",
        "        features = []\n",
        "\n",
        "        \n",
        "        if self.signal_mod is not None:\n",
        "            signal_features = signal.unsqueeze(1)\n",
        "            signal_features = self.signal_mod(signal_features).flatten(1)\n",
        "            features.append(signal_features)\n",
        "        \n",
        "        if self.fft_mod is not None:\n",
        "            fft_features = fft.unsqueeze(1) \n",
        "            fft_features = self.fft_mod(fft_features).flatten(1)\n",
        "            features.append(fft_features)\n",
        "\n",
        "        features = torch.cat(features, dim=1)\n",
        "\n",
        "        final_features = self.lin(features)\n",
        "\n",
        "        logits = self.lin_out(final_features)\n",
        "\n",
        "        chord_type_probabilities = self.chord_type_softmax(logits[:,:self.num_chord_types])\n",
        "        chord_tone_probabilities = self.chord_tone_softmax(logits[:,self.num_chord_types:])\n",
        "            \n",
        "        return torch.cat([chord_type_probabilities, chord_tone_probabilities], dim=1)"
      ]
    },
    {
      "cell_type": "markdown",
      "metadata": {
        "id": "MLAnanJZVLk0"
      },
      "source": [
        "### Parameters"
      ]
    },
    {
      "cell_type": "code",
      "execution_count": 119,
      "metadata": {
        "id": "qNgMtUn3VLk1"
      },
      "outputs": [
        {
          "name": "stdout",
          "output_type": "stream",
          "text": [
            "signal_conv layer 0 output: size=512 channels=64\n",
            "signal_conv layer 1 output: size=256 channels=64\n",
            "signal_conv layer 2 output: size=128 channels=64\n",
            "signal_conv layer 3 output: size=64 channels=64\n",
            "signal_conv layer 4 output: size=64 channels=64\n",
            "signal_conv layer 5 output: size=64 channels=64\n",
            "fft_conv layer 0 output: size=512 channels=16\n",
            "fft_conv layer 1 output: size=256 channels=16\n",
            "fft_conv layer 2 output: size=128 channels=16\n",
            "fft_conv layer 3 output: size=64 channels=16\n",
            "fft_conv layer 4 output: size=64 channels=16\n",
            "fft_conv layer 5 output: size=64 channels=16\n",
            "lin layer 0 output: size=1024\n",
            "lin layer 1 output: size=1024\n",
            "lin layer 2 output: size=1024\n",
            "lin layer 3 output: size=512\n",
            "lin layer 4 output: size=256\n"
          ]
        }
      ],
      "source": [
        "signal_conv_depth = 6\n",
        "signal_kernel_sizes = [9, 9, 9, 9, 9, 9]\n",
        "signal_conv = ConvMod(\n",
        "    \"signal_conv\",\n",
        "    input_size = SAMPLE_LENGTH,\n",
        "    depth = signal_conv_depth,\n",
        "    channels = [64 for _ in range(signal_conv_depth)], \n",
        "    kernel_sizes = signal_kernel_sizes, \n",
        "    strides = [1 for _ in range(signal_conv_depth)], \n",
        "    paddings = [int((kernel_size - 1)/2) for kernel_size in signal_kernel_sizes], \n",
        "    poolings = [2,2,2,2,1,1], \n",
        "    batchnorms = [True for _ in range(signal_conv_depth)], \n",
        "    dropouts = [0.1 for _ in range(signal_conv_depth)])\n",
        "#signal_conv = None\n",
        "\n",
        "fft_conv_depth = 6\n",
        "fft_kernel_sizes = [9, 9, 9, 9, 9, 9]\n",
        "fft_conv = ConvMod(\n",
        "    \"fft_conv\",\n",
        "    input_size = SAMPLE_LENGTH,\n",
        "    depth = fft_conv_depth,\n",
        "    channels = [16 for _ in range(fft_conv_depth)], \n",
        "    kernel_sizes = fft_kernel_sizes, \n",
        "    strides = [1 for _ in range(fft_conv_depth)], \n",
        "    paddings = [int((kernel_size - 1)/2) for kernel_size in fft_kernel_sizes], \n",
        "    poolings = [2,2,2,2,1,1], \n",
        "    batchnorms = [True for _ in range(fft_conv_depth)], \n",
        "    dropouts = [0.1 for _ in range(fft_conv_depth)])\n",
        "#fft_conv = None\n",
        "\n",
        "lin_depth = 5\n",
        "lin_mod = LinMod(\n",
        "    \"lin\",\n",
        "    in_features=(signal_conv.total_output_size() if signal_conv else 0) + (fft_conv.total_output_size() if fft_conv else 0),\n",
        "    depth = lin_depth,\n",
        "    features = [1024, 1024, 1024, 512, 256],\n",
        "    batchnorms = [True for _ in range(lin_depth)],\n",
        "    dropouts = [0.1 for _ in range(lin_depth)]\n",
        ")"
      ]
    },
    {
      "cell_type": "markdown",
      "metadata": {
        "id": "xAYW93NKVLk3"
      },
      "source": [
        "### Network"
      ]
    },
    {
      "cell_type": "code",
      "execution_count": 120,
      "metadata": {
        "id": "4aC9CSpPVLk3"
      },
      "outputs": [],
      "source": [
        "assert signal_conv or fft_conv, \"Either signal or fft must be used.\"\n",
        "\n",
        "net = Net(signal_conv, fft_conv, lin_mod, aus.num_chord_types())\n",
        "\n",
        "if use_cuda:\n",
        "    net.cuda()"
      ]
    },
    {
      "cell_type": "markdown",
      "metadata": {
        "id": "33PC3H1tVLk4"
      },
      "source": [
        "## Training"
      ]
    },
    {
      "cell_type": "markdown",
      "metadata": {},
      "source": [
        "### Plotting"
      ]
    },
    {
      "cell_type": "code",
      "execution_count": 121,
      "metadata": {},
      "outputs": [],
      "source": [
        "def type_accuracy(output, target):\n",
        "    output_chord_type = np.argmax(output[:aus.num_chord_types()])\n",
        "    target_chord_type = np.argmax(target[:aus.num_chord_types()])\n",
        "    return 1 if output_chord_type == target_chord_type else 0\n",
        "\n",
        "def tone_accuracy(output, target):\n",
        "    output_chord_tone = np.argmax(output[aus.num_chord_types():])\n",
        "    target_chord_tone = np.argmax(target[aus.num_chord_types():])\n",
        "    return 1 if output_chord_tone == target_chord_tone else 0\n",
        "\n",
        "def total_accuracy(output, target):\n",
        "    return type_accuracy(output, target) * tone_accuracy(output, target)\n",
        "\n",
        "eval_funcs = [\n",
        "    {\n",
        "        \"label\": \"Type Accuracy\",\n",
        "        \"ylim\": (0,1),\n",
        "        \"func\": lambda output, target, label: type_accuracy(output, target)\n",
        "    },\n",
        "    {\n",
        "        \"label\": \"Tone Accuracy\",\n",
        "        \"ylim\": (0,1),\n",
        "        \"func\": lambda output, target, label: tone_accuracy(output, target)\n",
        "    },\n",
        "    {\n",
        "        \"label\": \"Accuracy\",\n",
        "        \"ylim\": (0,1),\n",
        "        \"func\": lambda output, target, label: total_accuracy(output, target)\n",
        "    }\n",
        "]   \n",
        "\n",
        "manual_test_funcs = {\n",
        "    \"Target type\": lambda output, target, label: aus.chord_type_name(np.argmax(target[:aus.num_chord_types()])),\n",
        "    \"Output type\": lambda output, target, label: aus.chord_type_name(np.argmax(output[:aus.num_chord_types()])),\n",
        "    \"Target tone\": lambda output, target, label: np.argmax(target[aus.num_chord_types():]),\n",
        "    \"Output tone\": lambda output, target, label: np.argmax(output[aus.num_chord_types():]),\n",
        "    \"Frequency\": lambda output, target, label: label.frequency(),\n",
        "}"
      ]
    },
    {
      "cell_type": "markdown",
      "metadata": {},
      "source": [
        "### Setup"
      ]
    },
    {
      "cell_type": "code",
      "execution_count": 122,
      "metadata": {
        "id": "kLbmywdRVLk5"
      },
      "outputs": [],
      "source": [
        "LEARNING_RATE = 1e-3\n",
        "WEIGHT_DECAY = 1e-5"
      ]
    },
    {
      "cell_type": "code",
      "execution_count": 123,
      "metadata": {
        "id": "MLXdnp1sVLk5"
      },
      "outputs": [],
      "source": [
        "criterion = chord_criterion.ChordToneLoss(aus.num_chord_types())  \n",
        "\n",
        "# weight_decay is equal to L2 regularization\n",
        "optimizer = optim.AdamW(net.parameters(), lr=LEARNING_RATE, weight_decay=WEIGHT_DECAY) "
      ]
    },
    {
      "cell_type": "markdown",
      "metadata": {},
      "source": [
        "### Training"
      ]
    },
    {
      "cell_type": "code",
      "execution_count": 124,
      "metadata": {
        "id": "PbqU-FdsVLk6"
      },
      "outputs": [
        {
          "data": {
            "image/png": "[encoded data removed]",
            "text/plain": [
              "<Figure size 1600x400 with 4 Axes>"
            ]
          },
          "metadata": {},
          "output_type": "display_data"
        },
        {
          "data": {
            "image/png": "[encoded data removed]",
            "text/plain": [
              "<Figure size 1200x400 with 3 Axes>"
            ]
          },
          "metadata": {},
          "output_type": "display_data"
        },
        {
          "ename": "KeyboardInterrupt",
          "evalue": "",
          "output_type": "error",
          "traceback": [
            "\u001b[1;31m---------------------------------------------------------------------------\u001b[0m",
            "\u001b[1;31mKeyboardInterrupt\u001b[0m                         Traceback (most recent call last)",
            "Cell \u001b[1;32mIn [124], line 11\u001b[0m\n\u001b[0;32m      8\u001b[0m error_tracker \u001b[39m=\u001b[39m utils\u001b[39m.\u001b[39mErrorTracker(criterion, eval_funcs, NUM_VALIDATION_BATCHES)\n\u001b[0;32m     10\u001b[0m net\u001b[39m.\u001b[39mtrain()\n\u001b[1;32m---> 11\u001b[0m \u001b[39mfor\u001b[39;00m i, (signal, fft, target, label) \u001b[39min\u001b[39;00m \u001b[39menumerate\u001b[39m(itertools\u001b[39m.\u001b[39mislice(training_loader, NUM_BATCHES\u001b[39m+\u001b[39m\u001b[39m1\u001b[39m)):\n\u001b[0;32m     12\u001b[0m     \u001b[39mif\u001b[39;00m i\u001b[39m%\u001b[39mEVAL_EVERY \u001b[39m==\u001b[39m \u001b[39m0\u001b[39m:\n\u001b[0;32m     13\u001b[0m         error_tracker\u001b[39m.\u001b[39mvalidation_update(i, net, validation_loader)\n",
            "File \u001b[1;32mc:\\Users\\alber\\anaconda3\\envs\\torch-notebook\\lib\\site-packages\\torch\\utils\\data\\dataloader.py:628\u001b[0m, in \u001b[0;36m_BaseDataLoaderIter.__next__\u001b[1;34m(self)\u001b[0m\n\u001b[0;32m    625\u001b[0m \u001b[39mif\u001b[39;00m \u001b[39mself\u001b[39m\u001b[39m.\u001b[39m_sampler_iter \u001b[39mis\u001b[39;00m \u001b[39mNone\u001b[39;00m:\n\u001b[0;32m    626\u001b[0m     \u001b[39m# TODO(https://github.com/pytorch/pytorch/issues/76750)\u001b[39;00m\n\u001b[0;32m    627\u001b[0m     \u001b[39mself\u001b[39m\u001b[39m.\u001b[39m_reset()  \u001b[39m# type: ignore[call-arg]\u001b[39;00m\n\u001b[1;32m--> 628\u001b[0m data \u001b[39m=\u001b[39m \u001b[39mself\u001b[39;49m\u001b[39m.\u001b[39;49m_next_data()\n\u001b[0;32m    629\u001b[0m \u001b[39mself\u001b[39m\u001b[39m.\u001b[39m_num_yielded \u001b[39m+\u001b[39m\u001b[39m=\u001b[39m \u001b[39m1\u001b[39m\n\u001b[0;32m    630\u001b[0m \u001b[39mif\u001b[39;00m \u001b[39mself\u001b[39m\u001b[39m.\u001b[39m_dataset_kind \u001b[39m==\u001b[39m _DatasetKind\u001b[39m.\u001b[39mIterable \u001b[39mand\u001b[39;00m \\\n\u001b[0;32m    631\u001b[0m         \u001b[39mself\u001b[39m\u001b[39m.\u001b[39m_IterableDataset_len_called \u001b[39mis\u001b[39;00m \u001b[39mnot\u001b[39;00m \u001b[39mNone\u001b[39;00m \u001b[39mand\u001b[39;00m \\\n\u001b[0;32m    632\u001b[0m         \u001b[39mself\u001b[39m\u001b[39m.\u001b[39m_num_yielded \u001b[39m>\u001b[39m \u001b[39mself\u001b[39m\u001b[39m.\u001b[39m_IterableDataset_len_called:\n",
            "File \u001b[1;32mc:\\Users\\alber\\anaconda3\\envs\\torch-notebook\\lib\\site-packages\\torch\\utils\\data\\dataloader.py:671\u001b[0m, in \u001b[0;36m_SingleProcessDataLoaderIter._next_data\u001b[1;34m(self)\u001b[0m\n\u001b[0;32m    669\u001b[0m \u001b[39mdef\u001b[39;00m \u001b[39m_next_data\u001b[39m(\u001b[39mself\u001b[39m):\n\u001b[0;32m    670\u001b[0m     index \u001b[39m=\u001b[39m \u001b[39mself\u001b[39m\u001b[39m.\u001b[39m_next_index()  \u001b[39m# may raise StopIteration\u001b[39;00m\n\u001b[1;32m--> 671\u001b[0m     data \u001b[39m=\u001b[39m \u001b[39mself\u001b[39;49m\u001b[39m.\u001b[39;49m_dataset_fetcher\u001b[39m.\u001b[39;49mfetch(index)  \u001b[39m# may raise StopIteration\u001b[39;00m\n\u001b[0;32m    672\u001b[0m     \u001b[39mif\u001b[39;00m \u001b[39mself\u001b[39m\u001b[39m.\u001b[39m_pin_memory:\n\u001b[0;32m    673\u001b[0m         data \u001b[39m=\u001b[39m _utils\u001b[39m.\u001b[39mpin_memory\u001b[39m.\u001b[39mpin_memory(data, \u001b[39mself\u001b[39m\u001b[39m.\u001b[39m_pin_memory_device)\n",
            "File \u001b[1;32mc:\\Users\\alber\\anaconda3\\envs\\torch-notebook\\lib\\site-packages\\torch\\utils\\data\\_utils\\fetch.py:58\u001b[0m, in \u001b[0;36m_MapDatasetFetcher.fetch\u001b[1;34m(self, possibly_batched_index)\u001b[0m\n\u001b[0;32m     56\u001b[0m         data \u001b[39m=\u001b[39m \u001b[39mself\u001b[39m\u001b[39m.\u001b[39mdataset\u001b[39m.\u001b[39m__getitems__(possibly_batched_index)\n\u001b[0;32m     57\u001b[0m     \u001b[39melse\u001b[39;00m:\n\u001b[1;32m---> 58\u001b[0m         data \u001b[39m=\u001b[39m [\u001b[39mself\u001b[39m\u001b[39m.\u001b[39mdataset[idx] \u001b[39mfor\u001b[39;00m idx \u001b[39min\u001b[39;00m possibly_batched_index]\n\u001b[0;32m     59\u001b[0m \u001b[39melse\u001b[39;00m:\n\u001b[0;32m     60\u001b[0m     data \u001b[39m=\u001b[39m \u001b[39mself\u001b[39m\u001b[39m.\u001b[39mdataset[possibly_batched_index]\n",
            "File \u001b[1;32mc:\\Users\\alber\\anaconda3\\envs\\torch-notebook\\lib\\site-packages\\torch\\utils\\data\\_utils\\fetch.py:58\u001b[0m, in \u001b[0;36m<listcomp>\u001b[1;34m(.0)\u001b[0m\n\u001b[0;32m     56\u001b[0m         data \u001b[39m=\u001b[39m \u001b[39mself\u001b[39m\u001b[39m.\u001b[39mdataset\u001b[39m.\u001b[39m__getitems__(possibly_batched_index)\n\u001b[0;32m     57\u001b[0m     \u001b[39melse\u001b[39;00m:\n\u001b[1;32m---> 58\u001b[0m         data \u001b[39m=\u001b[39m [\u001b[39mself\u001b[39;49m\u001b[39m.\u001b[39;49mdataset[idx] \u001b[39mfor\u001b[39;00m idx \u001b[39min\u001b[39;00m possibly_batched_index]\n\u001b[0;32m     59\u001b[0m \u001b[39melse\u001b[39;00m:\n\u001b[0;32m     60\u001b[0m     data \u001b[39m=\u001b[39m \u001b[39mself\u001b[39m\u001b[39m.\u001b[39mdataset[possibly_batched_index]\n",
            "File \u001b[1;32mc:\\Users\\alber\\Google Drive\\DTU\\Deep Learning\\project\\deep-learning\\utils\\utils.py:95\u001b[0m, in \u001b[0;36mAudioSynthDataSet.__getitem__\u001b[1;34m(self, index)\u001b[0m\n\u001b[0;32m     93\u001b[0m \u001b[39mdef\u001b[39;00m \u001b[39m__getitem__\u001b[39m(\u001b[39mself\u001b[39m, index):\n\u001b[0;32m     94\u001b[0m     data_point \u001b[39m=\u001b[39m \u001b[39mself\u001b[39m\u001b[39m.\u001b[39mparameters\u001b[39m.\u001b[39mgenerate_at_index(index)\n\u001b[1;32m---> 95\u001b[0m     label \u001b[39m=\u001b[39m data_point\u001b[39m.\u001b[39;49mlabel()\n\u001b[0;32m     96\u001b[0m     \u001b[39mreturn\u001b[39;00m data_point\u001b[39m.\u001b[39msamples(), data_point\u001b[39m.\u001b[39maudio()\u001b[39m.\u001b[39mfft(), \u001b[39mself\u001b[39m\u001b[39m.\u001b[39mlabel_to_target(label), label\n",
            "\u001b[1;31mKeyboardInterrupt\u001b[0m: "
          ]
        }
      ],
      "source": [
        "NUM_BATCHES = 2000\n",
        "EVAL_EVERY = 200\n",
        "LOG_TRAIN_EVERY = 5\n",
        "NUM_VALIDATION_BATCHES = 10\n",
        "LOG_EVERY = EVAL_EVERY\n",
        "SAVE_MODEL_EVERY = 5000\n",
        "\n",
        "error_tracker = utils.ErrorTracker(criterion, eval_funcs, NUM_VALIDATION_BATCHES)\n",
        "\n",
        "net.train()\n",
        "for i, (signal, fft, target, label) in enumerate(itertools.islice(training_loader, NUM_BATCHES+1)):\n",
        "    if i%EVAL_EVERY == 0:\n",
        "        error_tracker.validation_update(i, net, validation_loader)\n",
        "\n",
        "    signal = utils.to_torch(signal)\n",
        "    fft = utils.to_torch(fft)\n",
        "    target = utils.to_torch(target)\n",
        "    output = net(signal, fft)\n",
        "    loss = criterion(output, target)\n",
        "\n",
        "    if i%LOG_TRAIN_EVERY == 0:\n",
        "        error_tracker.training_update(i, output, target, label, loss)\n",
        "\n",
        "    optimizer.zero_grad()\n",
        "    loss.backward()\n",
        "    optimizer.step()\n",
        "\n",
        "    if i % LOG_EVERY == 0:\n",
        "        display.clear_output(wait=True)\n",
        "        plots.plot_history(error_tracker, NUM_BATCHES, eval_funcs)\n",
        "        plots.frequency_plot(net, validation_loader, 20, eval_funcs, 30)\n",
        "        plt.show()\n",
        "\n",
        "val_loss, [val_type_accuracy, val_tone_accuracy, val_accuracy] = utils.test_net(net, validation_loader, criterion, NUM_VALIDATION_BATCHES, eval_funcs)\n",
        "\n",
        "print(f\"Loss={val_loss}, Type Accuracy={val_type_accuracy:.3f}, Tone Accuracy={val_tone_accuracy:.3f}, Accuracy={val_accuracy:.3f}\")\n",
        "\n",
        "utils.manual_test(net, validation_loader, 5, manual_test_funcs)"
      ]
    }
  ],
  "metadata": {
    "colab": {
      "provenance": []
    },
    "kernelspec": {
      "display_name": "Python 3.10.6 ('torch-notebook')",
      "language": "python",
      "name": "python3"
    },
    "language_info": {
      "codemirror_mode": {
        "name": "ipython",
        "version": 3
      },
      "file_extension": ".py",
      "mimetype": "text/x-python",
      "name": "python",
      "nbconvert_exporter": "python",
      "pygments_lexer": "ipython3",
      "version": "3.10.6"
    },
    "orig_nbformat": 4,
    "vscode": {
      "interpreter": {
        "hash": "34fdfbbea481bd85da6d3a89cefc0eac7829bd3d33c7e2764c66b35aab7d912a"
      }
    }
  },
  "nbformat": 4,
  "nbformat_minor": 0
}
